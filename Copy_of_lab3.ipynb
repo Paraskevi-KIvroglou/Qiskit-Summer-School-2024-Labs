{
  "cells": [
    {
      "cell_type": "markdown",
      "metadata": {
        "id": "view-in-github",
        "colab_type": "text"
      },
      "source": [
        "<a href=\"https://colab.research.google.com/github/Paraskevi-KIvroglou/Qiskit-Summer-School-2024-Labs/blob/main/Copy_of_lab3.ipynb\" target=\"_parent\"><img src=\"https://colab.research.google.com/assets/colab-badge.svg\" alt=\"Open In Colab\"/></a>"
      ]
    },
    {
      "cell_type": "markdown",
      "id": "d601aca4-74ff-4577-9737-327272482967",
      "metadata": {
        "id": "d601aca4-74ff-4577-9737-327272482967"
      },
      "source": [
        "# IBM's Qiskit Global Summer School 2024\n",
        "\n",
        "## Lab 3 - Quantum Error Suppression and Mitigation with Qiskit Runtime"
      ]
    },
    {
      "cell_type": "markdown",
      "id": "43414819-8f0d-4a45-a17b-3eeadf5ee0c5",
      "metadata": {
        "id": "43414819-8f0d-4a45-a17b-3eeadf5ee0c5"
      },
      "source": [
        "In this lab, you will explore the error suppression and error mitigation options available with the Estimator primitive from Qiskit Runtime. You will construct a circuit and observables and submit jobs using the Estimator primitive using different combinations of error mitigation settings. Then, you will plot the results to observe the effects of the various settings.\n",
        "\n",
        "These are the error suppression and mitigation options you will use:\n",
        "\n",
        "- Dynamical decoupling\n",
        "- Measurement error mitigation\n",
        "- Gate twirling\n",
        "- Zero noise extrapolation (ZNE)"
      ]
    },
    {
      "cell_type": "markdown",
      "id": "8662873e-82a6-4b54-8e53-8681ec46c7e9",
      "metadata": {
        "id": "8662873e-82a6-4b54-8e53-8681ec46c7e9"
      },
      "source": [
        "### Quantum problem (circuit and observables)"
      ]
    },
    {
      "cell_type": "markdown",
      "id": "f2cd771c-c282-4275-861e-97a1106c2fb5",
      "metadata": {
        "id": "f2cd771c-c282-4275-861e-97a1106c2fb5"
      },
      "source": [
        "#### Circuit"
      ]
    },
    {
      "cell_type": "markdown",
      "id": "d5907436-e58d-429e-ad17-c05732147432",
      "metadata": {
        "id": "d5907436-e58d-429e-ad17-c05732147432"
      },
      "source": [
        "This lab uses the [`EfficientSU2`](https://docs.quantum.ibm.com/api/qiskit/qiskit.circuit.library.EfficientSU2) circuit included in Qiskit's circuit library.\n",
        "\n",
        "EfficientSU2 is a parameterized quantum circuit designed to be efficiently executable on quantum hardware with limited qubit connectivity, while still being expressive enough to solve problems in application domains like optimization and chemistry. It is built by alternating layers of parameterized single-qubit gates with a layer containing a fixed pattern of two-qubit gates, for a chosen number of repetitions. The pattern of two-qubit gates can be specified by the user. Here you can use the built-in pairwise pattern because it minimizes the circuit depth by packing the two-qubit gates as densely as possible."
      ]
    },
    {
      "cell_type": "code",
      "source": [
        "!pip install qiskit==1.0.0\n",
        "!pip install qiskit-ibm-runtime\n",
        "!pip install pandas\n",
        "!pip install qiskit_aer\n",
        "!pip install matplotlib\n",
        "!pip install pylatexenc\n",
        "!pip install prototype-zne\n",
        "!pip install git+https://github.com/qiskit-community/Quantum-Challenge-Grader.git"
      ],
      "metadata": {
        "colab": {
          "base_uri": "https://localhost:8080/"
        },
        "id": "Jqm0h5Z-_lye",
        "outputId": "3a85d0e0-5c2e-48b0-bff0-e36e80ee93cc"
      },
      "id": "Jqm0h5Z-_lye",
      "execution_count": null,
      "outputs": [
        {
          "output_type": "stream",
          "name": "stdout",
          "text": [
            "Collecting qiskit==1.0.0\n",
            "  Downloading qiskit-1.0.0-cp38-abi3-manylinux_2_17_x86_64.manylinux2014_x86_64.whl.metadata (12 kB)\n",
            "Collecting rustworkx>=0.14.0 (from qiskit==1.0.0)\n",
            "  Downloading rustworkx-0.15.1-cp38-abi3-manylinux_2_17_x86_64.manylinux2014_x86_64.whl.metadata (9.9 kB)\n",
            "Requirement already satisfied: numpy<2,>=1.17 in /usr/local/lib/python3.10/dist-packages (from qiskit==1.0.0) (1.25.2)\n",
            "Requirement already satisfied: scipy>=1.5 in /usr/local/lib/python3.10/dist-packages (from qiskit==1.0.0) (1.11.4)\n",
            "Requirement already satisfied: sympy>=1.3 in /usr/local/lib/python3.10/dist-packages (from qiskit==1.0.0) (1.13.1)\n",
            "Collecting dill>=0.3 (from qiskit==1.0.0)\n",
            "  Downloading dill-0.3.8-py3-none-any.whl.metadata (10 kB)\n",
            "Requirement already satisfied: python-dateutil>=2.8.0 in /usr/local/lib/python3.10/dist-packages (from qiskit==1.0.0) (2.8.2)\n",
            "Collecting stevedore>=3.0.0 (from qiskit==1.0.0)\n",
            "  Downloading stevedore-5.2.0-py3-none-any.whl.metadata (2.3 kB)\n",
            "Requirement already satisfied: typing-extensions in /usr/local/lib/python3.10/dist-packages (from qiskit==1.0.0) (4.12.2)\n",
            "Collecting symengine>=0.11 (from qiskit==1.0.0)\n",
            "  Downloading symengine-0.11.0-cp310-cp310-manylinux_2_12_x86_64.manylinux2010_x86_64.whl.metadata (1.2 kB)\n",
            "Requirement already satisfied: six>=1.5 in /usr/local/lib/python3.10/dist-packages (from python-dateutil>=2.8.0->qiskit==1.0.0) (1.16.0)\n",
            "Collecting pbr!=2.1.0,>=2.0.0 (from stevedore>=3.0.0->qiskit==1.0.0)\n",
            "  Downloading pbr-6.0.0-py2.py3-none-any.whl.metadata (1.3 kB)\n",
            "Requirement already satisfied: mpmath<1.4,>=1.1.0 in /usr/local/lib/python3.10/dist-packages (from sympy>=1.3->qiskit==1.0.0) (1.3.0)\n",
            "Downloading qiskit-1.0.0-cp38-abi3-manylinux_2_17_x86_64.manylinux2014_x86_64.whl (5.6 MB)\n",
            "\u001b[2K   \u001b[90m━━━━━━━━━━━━━━━━━━━━━━━━━━━━━━━━━━━━━━━━\u001b[0m \u001b[32m5.6/5.6 MB\u001b[0m \u001b[31m1.8 MB/s\u001b[0m eta \u001b[36m0:00:00\u001b[0m\n",
            "\u001b[?25hDownloading dill-0.3.8-py3-none-any.whl (116 kB)\n",
            "\u001b[2K   \u001b[90m━━━━━━━━━━━━━━━━━━━━━━━━━━━━━━━━━━━━━━━━\u001b[0m \u001b[32m116.3/116.3 kB\u001b[0m \u001b[31m8.8 MB/s\u001b[0m eta \u001b[36m0:00:00\u001b[0m\n",
            "\u001b[?25hDownloading rustworkx-0.15.1-cp38-abi3-manylinux_2_17_x86_64.manylinux2014_x86_64.whl (2.0 MB)\n",
            "\u001b[2K   \u001b[90m━━━━━━━━━━━━━━━━━━━━━━━━━━━━━━━━━━━━━━━━\u001b[0m \u001b[32m2.0/2.0 MB\u001b[0m \u001b[31m63.3 MB/s\u001b[0m eta \u001b[36m0:00:00\u001b[0m\n",
            "\u001b[?25hDownloading stevedore-5.2.0-py3-none-any.whl (49 kB)\n",
            "\u001b[2K   \u001b[90m━━━━━━━━━━━━━━━━━━━━━━━━━━━━━━━━━━━━━━━━\u001b[0m \u001b[32m49.7/49.7 kB\u001b[0m \u001b[31m3.2 MB/s\u001b[0m eta \u001b[36m0:00:00\u001b[0m\n",
            "\u001b[?25hDownloading symengine-0.11.0-cp310-cp310-manylinux_2_12_x86_64.manylinux2010_x86_64.whl (39.4 MB)\n",
            "\u001b[2K   \u001b[90m━━━━━━━━━━━━━━━━━━━━━━━━━━━━━━━━━━━━━━━━\u001b[0m \u001b[32m39.4/39.4 MB\u001b[0m \u001b[31m16.6 MB/s\u001b[0m eta \u001b[36m0:00:00\u001b[0m\n",
            "\u001b[?25hDownloading pbr-6.0.0-py2.py3-none-any.whl (107 kB)\n",
            "\u001b[2K   \u001b[90m━━━━━━━━━━━━━━━━━━━━━━━━━━━━━━━━━━━━━━━━\u001b[0m \u001b[32m107.5/107.5 kB\u001b[0m \u001b[31m8.2 MB/s\u001b[0m eta \u001b[36m0:00:00\u001b[0m\n",
            "\u001b[?25hInstalling collected packages: symengine, rustworkx, pbr, dill, stevedore, qiskit\n",
            "Successfully installed dill-0.3.8 pbr-6.0.0 qiskit-1.0.0 rustworkx-0.15.1 stevedore-5.2.0 symengine-0.11.0\n",
            "Collecting qiskit-ibm-runtime\n",
            "  Downloading qiskit_ibm_runtime-0.25.0-py3-none-any.whl.metadata (19 kB)\n",
            "Requirement already satisfied: requests>=2.19 in /usr/local/lib/python3.10/dist-packages (from qiskit-ibm-runtime) (2.31.0)\n",
            "Collecting requests-ntlm>=1.1.0 (from qiskit-ibm-runtime)\n",
            "  Downloading requests_ntlm-1.3.0-py3-none-any.whl.metadata (2.4 kB)\n",
            "Requirement already satisfied: numpy>=1.13 in /usr/local/lib/python3.10/dist-packages (from qiskit-ibm-runtime) (1.25.2)\n",
            "Requirement already satisfied: urllib3>=1.21.1 in /usr/local/lib/python3.10/dist-packages (from qiskit-ibm-runtime) (2.0.7)\n",
            "Requirement already satisfied: python-dateutil>=2.8.0 in /usr/local/lib/python3.10/dist-packages (from qiskit-ibm-runtime) (2.8.2)\n",
            "Requirement already satisfied: websocket-client>=1.5.1 in /usr/local/lib/python3.10/dist-packages (from qiskit-ibm-runtime) (1.8.0)\n",
            "Collecting ibm-platform-services>=0.22.6 (from qiskit-ibm-runtime)\n",
            "  Downloading ibm-platform-services-0.55.1.tar.gz (323 kB)\n",
            "\u001b[2K     \u001b[90m━━━━━━━━━━━━━━━━━━━━━━━━━━━━━━━━━━━━━━━━\u001b[0m \u001b[32m323.1/323.1 kB\u001b[0m \u001b[31m6.5 MB/s\u001b[0m eta \u001b[36m0:00:00\u001b[0m\n",
            "\u001b[?25h  Installing build dependencies ... \u001b[?25l\u001b[?25hdone\n",
            "  Getting requirements to build wheel ... \u001b[?25l\u001b[?25hdone\n",
            "  Preparing metadata (pyproject.toml) ... \u001b[?25l\u001b[?25hdone\n",
            "Requirement already satisfied: pydantic>=2.5.0 in /usr/local/lib/python3.10/dist-packages (from qiskit-ibm-runtime) (2.8.2)\n",
            "Collecting qiskit>=1.1.0 (from qiskit-ibm-runtime)\n",
            "  Downloading qiskit-1.1.1-cp38-abi3-manylinux_2_17_x86_64.manylinux2014_x86_64.whl.metadata (12 kB)\n",
            "Collecting ibm-cloud-sdk-core<4.0.0,>=3.20.3 (from ibm-platform-services>=0.22.6->qiskit-ibm-runtime)\n",
            "  Downloading ibm-cloud-sdk-core-3.20.3.tar.gz (62 kB)\n",
            "\u001b[2K     \u001b[90m━━━━━━━━━━━━━━━━━━━━━━━━━━━━━━━━━━━━━━━━\u001b[0m \u001b[32m62.7/62.7 kB\u001b[0m \u001b[31m4.9 MB/s\u001b[0m eta \u001b[36m0:00:00\u001b[0m\n",
            "\u001b[?25h  Installing build dependencies ... \u001b[?25l\u001b[?25hdone\n",
            "  Getting requirements to build wheel ... \u001b[?25l\u001b[?25hdone\n",
            "  Preparing metadata (pyproject.toml) ... \u001b[?25l\u001b[?25hdone\n",
            "Requirement already satisfied: annotated-types>=0.4.0 in /usr/local/lib/python3.10/dist-packages (from pydantic>=2.5.0->qiskit-ibm-runtime) (0.7.0)\n",
            "Requirement already satisfied: pydantic-core==2.20.1 in /usr/local/lib/python3.10/dist-packages (from pydantic>=2.5.0->qiskit-ibm-runtime) (2.20.1)\n",
            "Requirement already satisfied: typing-extensions>=4.6.1 in /usr/local/lib/python3.10/dist-packages (from pydantic>=2.5.0->qiskit-ibm-runtime) (4.12.2)\n",
            "Requirement already satisfied: six>=1.5 in /usr/local/lib/python3.10/dist-packages (from python-dateutil>=2.8.0->qiskit-ibm-runtime) (1.16.0)\n",
            "Requirement already satisfied: rustworkx>=0.14.0 in /usr/local/lib/python3.10/dist-packages (from qiskit>=1.1.0->qiskit-ibm-runtime) (0.15.1)\n",
            "Requirement already satisfied: scipy>=1.5 in /usr/local/lib/python3.10/dist-packages (from qiskit>=1.1.0->qiskit-ibm-runtime) (1.11.4)\n",
            "Requirement already satisfied: sympy>=1.3 in /usr/local/lib/python3.10/dist-packages (from qiskit>=1.1.0->qiskit-ibm-runtime) (1.13.1)\n",
            "Requirement already satisfied: dill>=0.3 in /usr/local/lib/python3.10/dist-packages (from qiskit>=1.1.0->qiskit-ibm-runtime) (0.3.8)\n",
            "Requirement already satisfied: stevedore>=3.0.0 in /usr/local/lib/python3.10/dist-packages (from qiskit>=1.1.0->qiskit-ibm-runtime) (5.2.0)\n",
            "Requirement already satisfied: symengine>=0.11 in /usr/local/lib/python3.10/dist-packages (from qiskit>=1.1.0->qiskit-ibm-runtime) (0.11.0)\n",
            "Requirement already satisfied: charset-normalizer<4,>=2 in /usr/local/lib/python3.10/dist-packages (from requests>=2.19->qiskit-ibm-runtime) (3.3.2)\n",
            "Requirement already satisfied: idna<4,>=2.5 in /usr/local/lib/python3.10/dist-packages (from requests>=2.19->qiskit-ibm-runtime) (3.7)\n",
            "Requirement already satisfied: certifi>=2017.4.17 in /usr/local/lib/python3.10/dist-packages (from requests>=2.19->qiskit-ibm-runtime) (2024.7.4)\n",
            "Requirement already satisfied: cryptography>=1.3 in /usr/local/lib/python3.10/dist-packages (from requests-ntlm>=1.1.0->qiskit-ibm-runtime) (43.0.0)\n",
            "Collecting pyspnego>=0.4.0 (from requests-ntlm>=1.1.0->qiskit-ibm-runtime)\n",
            "  Downloading pyspnego-0.11.1-py3-none-any.whl.metadata (5.4 kB)\n",
            "Requirement already satisfied: cffi>=1.12 in /usr/local/lib/python3.10/dist-packages (from cryptography>=1.3->requests-ntlm>=1.1.0->qiskit-ibm-runtime) (1.16.0)\n",
            "Collecting urllib3>=1.21.1 (from qiskit-ibm-runtime)\n",
            "  Downloading urllib3-2.2.2-py3-none-any.whl.metadata (6.4 kB)\n",
            "Collecting PyJWT<3.0.0,>=2.8.0 (from ibm-cloud-sdk-core<4.0.0,>=3.20.3->ibm-platform-services>=0.22.6->qiskit-ibm-runtime)\n",
            "  Downloading PyJWT-2.8.0-py3-none-any.whl.metadata (4.2 kB)\n",
            "Requirement already satisfied: pbr!=2.1.0,>=2.0.0 in /usr/local/lib/python3.10/dist-packages (from stevedore>=3.0.0->qiskit>=1.1.0->qiskit-ibm-runtime) (6.0.0)\n",
            "Requirement already satisfied: mpmath<1.4,>=1.1.0 in /usr/local/lib/python3.10/dist-packages (from sympy>=1.3->qiskit>=1.1.0->qiskit-ibm-runtime) (1.3.0)\n",
            "Requirement already satisfied: pycparser in /usr/local/lib/python3.10/dist-packages (from cffi>=1.12->cryptography>=1.3->requests-ntlm>=1.1.0->qiskit-ibm-runtime) (2.22)\n",
            "Downloading qiskit_ibm_runtime-0.25.0-py3-none-any.whl (2.9 MB)\n",
            "\u001b[2K   \u001b[90m━━━━━━━━━━━━━━━━━━━━━━━━━━━━━━━━━━━━━━━━\u001b[0m \u001b[32m2.9/2.9 MB\u001b[0m \u001b[31m48.2 MB/s\u001b[0m eta \u001b[36m0:00:00\u001b[0m\n",
            "\u001b[?25hDownloading qiskit-1.1.1-cp38-abi3-manylinux_2_17_x86_64.manylinux2014_x86_64.whl (4.3 MB)\n",
            "\u001b[2K   \u001b[90m━━━━━━━━━━━━━━━━━━━━━━━━━━━━━━━━━━━━━━━━\u001b[0m \u001b[32m4.3/4.3 MB\u001b[0m \u001b[31m82.7 MB/s\u001b[0m eta \u001b[36m0:00:00\u001b[0m\n",
            "\u001b[?25hDownloading requests_ntlm-1.3.0-py3-none-any.whl (6.6 kB)\n",
            "Downloading urllib3-2.2.2-py3-none-any.whl (121 kB)\n",
            "\u001b[2K   \u001b[90m━━━━━━━━━━━━━━━━━━━━━━━━━━━━━━━━━━━━━━━━\u001b[0m \u001b[32m121.4/121.4 kB\u001b[0m \u001b[31m9.3 MB/s\u001b[0m eta \u001b[36m0:00:00\u001b[0m\n",
            "\u001b[?25hDownloading pyspnego-0.11.1-py3-none-any.whl (130 kB)\n",
            "\u001b[2K   \u001b[90m━━━━━━━━━━━━━━━━━━━━━━━━━━━━━━━━━━━━━━━━\u001b[0m \u001b[32m130.5/130.5 kB\u001b[0m \u001b[31m10.1 MB/s\u001b[0m eta \u001b[36m0:00:00\u001b[0m\n",
            "\u001b[?25hDownloading PyJWT-2.8.0-py3-none-any.whl (22 kB)\n",
            "Building wheels for collected packages: ibm-platform-services, ibm-cloud-sdk-core\n",
            "  Building wheel for ibm-platform-services (pyproject.toml) ... \u001b[?25l\u001b[?25hdone\n",
            "  Created wheel for ibm-platform-services: filename=ibm_platform_services-0.55.1-py3-none-any.whl size=339686 sha256=70d88cfd6a4292ac735b90e3654c2cba880b3e58433cfabbdf9ccbd5420dfd66\n",
            "  Stored in directory: /root/.cache/pip/wheels/85/ac/f7/fcc0f6fb6fd090cb2c4f6f9fc55fd5aa36af0bfe1f44a9af71\n",
            "  Building wheel for ibm-cloud-sdk-core (pyproject.toml) ... \u001b[?25l\u001b[?25hdone\n",
            "  Created wheel for ibm-cloud-sdk-core: filename=ibm_cloud_sdk_core-3.20.3-py3-none-any.whl size=102558 sha256=da2e00fba35cc8421346532e977e1de616bb2810d052e2b10cd26b2165046add\n",
            "  Stored in directory: /root/.cache/pip/wheels/37/52/12/4283874e4e1f9be8c89f05de7971a7619fdffe8abf1ac989cd\n",
            "Successfully built ibm-platform-services ibm-cloud-sdk-core\n",
            "Installing collected packages: urllib3, PyJWT, qiskit, pyspnego, ibm-cloud-sdk-core, requests-ntlm, ibm-platform-services, qiskit-ibm-runtime\n",
            "  Attempting uninstall: urllib3\n",
            "    Found existing installation: urllib3 2.0.7\n",
            "    Uninstalling urllib3-2.0.7:\n",
            "      Successfully uninstalled urllib3-2.0.7\n",
            "  Attempting uninstall: PyJWT\n",
            "    Found existing installation: PyJWT 2.3.0\n",
            "    Uninstalling PyJWT-2.3.0:\n",
            "      Successfully uninstalled PyJWT-2.3.0\n",
            "  Attempting uninstall: qiskit\n",
            "    Found existing installation: qiskit 1.0.0\n",
            "    Uninstalling qiskit-1.0.0:\n",
            "      Successfully uninstalled qiskit-1.0.0\n",
            "Successfully installed PyJWT-2.8.0 ibm-cloud-sdk-core-3.20.3 ibm-platform-services-0.55.1 pyspnego-0.11.1 qiskit-1.1.1 qiskit-ibm-runtime-0.25.0 requests-ntlm-1.3.0 urllib3-2.2.2\n",
            "Requirement already satisfied: pandas in /usr/local/lib/python3.10/dist-packages (2.0.3)\n",
            "Requirement already satisfied: python-dateutil>=2.8.2 in /usr/local/lib/python3.10/dist-packages (from pandas) (2.8.2)\n",
            "Requirement already satisfied: pytz>=2020.1 in /usr/local/lib/python3.10/dist-packages (from pandas) (2023.4)\n",
            "Requirement already satisfied: tzdata>=2022.1 in /usr/local/lib/python3.10/dist-packages (from pandas) (2024.1)\n",
            "Requirement already satisfied: numpy>=1.21.0 in /usr/local/lib/python3.10/dist-packages (from pandas) (1.25.2)\n",
            "Requirement already satisfied: six>=1.5 in /usr/local/lib/python3.10/dist-packages (from python-dateutil>=2.8.2->pandas) (1.16.0)\n",
            "Collecting qiskit_aer\n",
            "  Downloading qiskit_aer-0.14.2-cp310-cp310-manylinux_2_17_x86_64.manylinux2014_x86_64.whl.metadata (8.1 kB)\n",
            "Requirement already satisfied: qiskit>=0.45.2 in /usr/local/lib/python3.10/dist-packages (from qiskit_aer) (1.1.1)\n",
            "Requirement already satisfied: numpy>=1.16.3 in /usr/local/lib/python3.10/dist-packages (from qiskit_aer) (1.25.2)\n",
            "Requirement already satisfied: scipy>=1.0 in /usr/local/lib/python3.10/dist-packages (from qiskit_aer) (1.11.4)\n",
            "Requirement already satisfied: psutil>=5 in /usr/local/lib/python3.10/dist-packages (from qiskit_aer) (5.9.5)\n",
            "Requirement already satisfied: rustworkx>=0.14.0 in /usr/local/lib/python3.10/dist-packages (from qiskit>=0.45.2->qiskit_aer) (0.15.1)\n",
            "Requirement already satisfied: sympy>=1.3 in /usr/local/lib/python3.10/dist-packages (from qiskit>=0.45.2->qiskit_aer) (1.13.1)\n",
            "Requirement already satisfied: dill>=0.3 in /usr/local/lib/python3.10/dist-packages (from qiskit>=0.45.2->qiskit_aer) (0.3.8)\n",
            "Requirement already satisfied: python-dateutil>=2.8.0 in /usr/local/lib/python3.10/dist-packages (from qiskit>=0.45.2->qiskit_aer) (2.8.2)\n",
            "Requirement already satisfied: stevedore>=3.0.0 in /usr/local/lib/python3.10/dist-packages (from qiskit>=0.45.2->qiskit_aer) (5.2.0)\n",
            "Requirement already satisfied: typing-extensions in /usr/local/lib/python3.10/dist-packages (from qiskit>=0.45.2->qiskit_aer) (4.12.2)\n",
            "Requirement already satisfied: symengine>=0.11 in /usr/local/lib/python3.10/dist-packages (from qiskit>=0.45.2->qiskit_aer) (0.11.0)\n",
            "Requirement already satisfied: six>=1.5 in /usr/local/lib/python3.10/dist-packages (from python-dateutil>=2.8.0->qiskit>=0.45.2->qiskit_aer) (1.16.0)\n",
            "Requirement already satisfied: pbr!=2.1.0,>=2.0.0 in /usr/local/lib/python3.10/dist-packages (from stevedore>=3.0.0->qiskit>=0.45.2->qiskit_aer) (6.0.0)\n",
            "Requirement already satisfied: mpmath<1.4,>=1.1.0 in /usr/local/lib/python3.10/dist-packages (from sympy>=1.3->qiskit>=0.45.2->qiskit_aer) (1.3.0)\n",
            "Downloading qiskit_aer-0.14.2-cp310-cp310-manylinux_2_17_x86_64.manylinux2014_x86_64.whl (12.4 MB)\n",
            "\u001b[2K   \u001b[90m━━━━━━━━━━━━━━━━━━━━━━━━━━━━━━━━━━━━━━━━\u001b[0m \u001b[32m12.4/12.4 MB\u001b[0m \u001b[31m70.3 MB/s\u001b[0m eta \u001b[36m0:00:00\u001b[0m\n",
            "\u001b[?25hInstalling collected packages: qiskit_aer\n",
            "Successfully installed qiskit_aer-0.14.2\n",
            "Requirement already satisfied: matplotlib in /usr/local/lib/python3.10/dist-packages (3.7.1)\n",
            "Requirement already satisfied: contourpy>=1.0.1 in /usr/local/lib/python3.10/dist-packages (from matplotlib) (1.2.1)\n",
            "Requirement already satisfied: cycler>=0.10 in /usr/local/lib/python3.10/dist-packages (from matplotlib) (0.12.1)\n",
            "Requirement already satisfied: fonttools>=4.22.0 in /usr/local/lib/python3.10/dist-packages (from matplotlib) (4.53.1)\n",
            "Requirement already satisfied: kiwisolver>=1.0.1 in /usr/local/lib/python3.10/dist-packages (from matplotlib) (1.4.5)\n",
            "Requirement already satisfied: numpy>=1.20 in /usr/local/lib/python3.10/dist-packages (from matplotlib) (1.25.2)\n",
            "Requirement already satisfied: packaging>=20.0 in /usr/local/lib/python3.10/dist-packages (from matplotlib) (24.1)\n",
            "Requirement already satisfied: pillow>=6.2.0 in /usr/local/lib/python3.10/dist-packages (from matplotlib) (9.4.0)\n",
            "Requirement already satisfied: pyparsing>=2.3.1 in /usr/local/lib/python3.10/dist-packages (from matplotlib) (3.1.2)\n",
            "Requirement already satisfied: python-dateutil>=2.7 in /usr/local/lib/python3.10/dist-packages (from matplotlib) (2.8.2)\n",
            "Requirement already satisfied: six>=1.5 in /usr/local/lib/python3.10/dist-packages (from python-dateutil>=2.7->matplotlib) (1.16.0)\n",
            "Collecting pylatexenc\n",
            "  Downloading pylatexenc-2.10.tar.gz (162 kB)\n",
            "\u001b[2K     \u001b[90m━━━━━━━━━━━━━━━━━━━━━━━━━━━━━━━━━━━━━━━━\u001b[0m \u001b[32m162.6/162.6 kB\u001b[0m \u001b[31m3.6 MB/s\u001b[0m eta \u001b[36m0:00:00\u001b[0m\n",
            "\u001b[?25h  Preparing metadata (setup.py) ... \u001b[?25l\u001b[?25hdone\n",
            "Building wheels for collected packages: pylatexenc\n",
            "  Building wheel for pylatexenc (setup.py) ... \u001b[?25l\u001b[?25hdone\n",
            "  Created wheel for pylatexenc: filename=pylatexenc-2.10-py3-none-any.whl size=136817 sha256=f53226765c804d3cd176ff96e95e7b0ce07072acd376cf3a09af1b7d5e03d633\n",
            "  Stored in directory: /root/.cache/pip/wheels/d3/31/8b/e09b0386afd80cfc556c00408c9aeea5c35c4d484a9c762fd5\n",
            "Successfully built pylatexenc\n",
            "Installing collected packages: pylatexenc\n",
            "Successfully installed pylatexenc-2.10\n",
            "Collecting prototype-zne\n",
            "  Downloading prototype_zne-1.3.1-py3-none-any.whl.metadata (11 kB)\n",
            "Requirement already satisfied: qiskit>=0.45.1 in /usr/local/lib/python3.10/dist-packages (from prototype-zne) (1.1.1)\n",
            "Requirement already satisfied: rustworkx>=0.14.0 in /usr/local/lib/python3.10/dist-packages (from qiskit>=0.45.1->prototype-zne) (0.15.1)\n",
            "Requirement already satisfied: numpy<3,>=1.17 in /usr/local/lib/python3.10/dist-packages (from qiskit>=0.45.1->prototype-zne) (1.25.2)\n",
            "Requirement already satisfied: scipy>=1.5 in /usr/local/lib/python3.10/dist-packages (from qiskit>=0.45.1->prototype-zne) (1.11.4)\n",
            "Requirement already satisfied: sympy>=1.3 in /usr/local/lib/python3.10/dist-packages (from qiskit>=0.45.1->prototype-zne) (1.13.1)\n",
            "Requirement already satisfied: dill>=0.3 in /usr/local/lib/python3.10/dist-packages (from qiskit>=0.45.1->prototype-zne) (0.3.8)\n",
            "Requirement already satisfied: python-dateutil>=2.8.0 in /usr/local/lib/python3.10/dist-packages (from qiskit>=0.45.1->prototype-zne) (2.8.2)\n",
            "Requirement already satisfied: stevedore>=3.0.0 in /usr/local/lib/python3.10/dist-packages (from qiskit>=0.45.1->prototype-zne) (5.2.0)\n",
            "Requirement already satisfied: typing-extensions in /usr/local/lib/python3.10/dist-packages (from qiskit>=0.45.1->prototype-zne) (4.12.2)\n",
            "Requirement already satisfied: symengine>=0.11 in /usr/local/lib/python3.10/dist-packages (from qiskit>=0.45.1->prototype-zne) (0.11.0)\n",
            "Requirement already satisfied: six>=1.5 in /usr/local/lib/python3.10/dist-packages (from python-dateutil>=2.8.0->qiskit>=0.45.1->prototype-zne) (1.16.0)\n",
            "Requirement already satisfied: pbr!=2.1.0,>=2.0.0 in /usr/local/lib/python3.10/dist-packages (from stevedore>=3.0.0->qiskit>=0.45.1->prototype-zne) (6.0.0)\n",
            "Requirement already satisfied: mpmath<1.4,>=1.1.0 in /usr/local/lib/python3.10/dist-packages (from sympy>=1.3->qiskit>=0.45.1->prototype-zne) (1.3.0)\n",
            "Downloading prototype_zne-1.3.1-py3-none-any.whl (56 kB)\n",
            "\u001b[2K   \u001b[90m━━━━━━━━━━━━━━━━━━━━━━━━━━━━━━━━━━━━━━━━\u001b[0m \u001b[32m56.5/56.5 kB\u001b[0m \u001b[31m2.6 MB/s\u001b[0m eta \u001b[36m0:00:00\u001b[0m\n",
            "\u001b[?25hInstalling collected packages: prototype-zne\n",
            "Successfully installed prototype-zne-1.3.1\n",
            "Collecting git+https://github.com/qiskit-community/Quantum-Challenge-Grader.git\n",
            "  Cloning https://github.com/qiskit-community/Quantum-Challenge-Grader.git to /tmp/pip-req-build-e7fn0qea\n",
            "  Running command git clone --filter=blob:none --quiet https://github.com/qiskit-community/Quantum-Challenge-Grader.git /tmp/pip-req-build-e7fn0qea\n",
            "  Resolved https://github.com/qiskit-community/Quantum-Challenge-Grader.git to commit bcaff898473fd54f3e2668f162817947787f7268\n",
            "  Preparing metadata (setup.py) ... \u001b[?25l\u001b[?25hdone\n",
            "Collecting typeguard (from qc_grader==0.19.7)\n",
            "  Downloading typeguard-4.3.0-py3-none-any.whl.metadata (3.7 kB)\n",
            "Collecting jsonpickle==3.0.3 (from qc_grader==0.19.7)\n",
            "  Downloading jsonpickle-3.0.3-py3-none-any.whl.metadata (7.3 kB)\n",
            "Collecting ipycytoscape (from qc_grader==0.19.7)\n",
            "  Downloading ipycytoscape-1.3.3-py2.py3-none-any.whl.metadata (7.5 kB)\n",
            "Requirement already satisfied: plotly in /usr/local/lib/python3.10/dist-packages (from qc_grader==0.19.7) (5.15.0)\n",
            "Collecting networkx==3.2.1 (from qc_grader==0.19.7)\n",
            "  Downloading networkx-3.2.1-py3-none-any.whl.metadata (5.2 kB)\n",
            "Requirement already satisfied: graphviz in /usr/local/lib/python3.10/dist-packages (from qc_grader==0.19.7) (0.20.3)\n",
            "Requirement already satisfied: ipywidgets>=7.6.0 in /usr/local/lib/python3.10/dist-packages (from ipycytoscape->qc_grader==0.19.7) (7.7.1)\n",
            "Collecting spectate>=1.0.0 (from ipycytoscape->qc_grader==0.19.7)\n",
            "  Downloading spectate-1.0.1-py2.py3-none-any.whl.metadata (2.2 kB)\n",
            "Requirement already satisfied: tenacity>=6.2.0 in /usr/local/lib/python3.10/dist-packages (from plotly->qc_grader==0.19.7) (8.5.0)\n",
            "Requirement already satisfied: packaging in /usr/local/lib/python3.10/dist-packages (from plotly->qc_grader==0.19.7) (24.1)\n",
            "Requirement already satisfied: typing-extensions>=4.10.0 in /usr/local/lib/python3.10/dist-packages (from typeguard->qc_grader==0.19.7) (4.12.2)\n",
            "Requirement already satisfied: ipykernel>=4.5.1 in /usr/local/lib/python3.10/dist-packages (from ipywidgets>=7.6.0->ipycytoscape->qc_grader==0.19.7) (5.5.6)\n",
            "Requirement already satisfied: ipython-genutils~=0.2.0 in /usr/local/lib/python3.10/dist-packages (from ipywidgets>=7.6.0->ipycytoscape->qc_grader==0.19.7) (0.2.0)\n",
            "Requirement already satisfied: traitlets>=4.3.1 in /usr/local/lib/python3.10/dist-packages (from ipywidgets>=7.6.0->ipycytoscape->qc_grader==0.19.7) (5.7.1)\n",
            "Requirement already satisfied: widgetsnbextension~=3.6.0 in /usr/local/lib/python3.10/dist-packages (from ipywidgets>=7.6.0->ipycytoscape->qc_grader==0.19.7) (3.6.7)\n",
            "Requirement already satisfied: ipython>=4.0.0 in /usr/local/lib/python3.10/dist-packages (from ipywidgets>=7.6.0->ipycytoscape->qc_grader==0.19.7) (7.34.0)\n",
            "Requirement already satisfied: jupyterlab-widgets>=1.0.0 in /usr/local/lib/python3.10/dist-packages (from ipywidgets>=7.6.0->ipycytoscape->qc_grader==0.19.7) (3.0.11)\n",
            "Requirement already satisfied: jupyter-client in /usr/local/lib/python3.10/dist-packages (from ipykernel>=4.5.1->ipywidgets>=7.6.0->ipycytoscape->qc_grader==0.19.7) (6.1.12)\n",
            "Requirement already satisfied: tornado>=4.2 in /usr/local/lib/python3.10/dist-packages (from ipykernel>=4.5.1->ipywidgets>=7.6.0->ipycytoscape->qc_grader==0.19.7) (6.3.3)\n",
            "Requirement already satisfied: setuptools>=18.5 in /usr/local/lib/python3.10/dist-packages (from ipython>=4.0.0->ipywidgets>=7.6.0->ipycytoscape->qc_grader==0.19.7) (71.0.4)\n",
            "Collecting jedi>=0.16 (from ipython>=4.0.0->ipywidgets>=7.6.0->ipycytoscape->qc_grader==0.19.7)\n",
            "  Downloading jedi-0.19.1-py2.py3-none-any.whl.metadata (22 kB)\n",
            "Requirement already satisfied: decorator in /usr/local/lib/python3.10/dist-packages (from ipython>=4.0.0->ipywidgets>=7.6.0->ipycytoscape->qc_grader==0.19.7) (4.4.2)\n",
            "Requirement already satisfied: pickleshare in /usr/local/lib/python3.10/dist-packages (from ipython>=4.0.0->ipywidgets>=7.6.0->ipycytoscape->qc_grader==0.19.7) (0.7.5)\n",
            "Requirement already satisfied: prompt-toolkit!=3.0.0,!=3.0.1,<3.1.0,>=2.0.0 in /usr/local/lib/python3.10/dist-packages (from ipython>=4.0.0->ipywidgets>=7.6.0->ipycytoscape->qc_grader==0.19.7) (3.0.47)\n",
            "Requirement already satisfied: pygments in /usr/local/lib/python3.10/dist-packages (from ipython>=4.0.0->ipywidgets>=7.6.0->ipycytoscape->qc_grader==0.19.7) (2.16.1)\n",
            "Requirement already satisfied: backcall in /usr/local/lib/python3.10/dist-packages (from ipython>=4.0.0->ipywidgets>=7.6.0->ipycytoscape->qc_grader==0.19.7) (0.2.0)\n",
            "Requirement already satisfied: matplotlib-inline in /usr/local/lib/python3.10/dist-packages (from ipython>=4.0.0->ipywidgets>=7.6.0->ipycytoscape->qc_grader==0.19.7) (0.1.7)\n",
            "Requirement already satisfied: pexpect>4.3 in /usr/local/lib/python3.10/dist-packages (from ipython>=4.0.0->ipywidgets>=7.6.0->ipycytoscape->qc_grader==0.19.7) (4.9.0)\n",
            "Requirement already satisfied: notebook>=4.4.1 in /usr/local/lib/python3.10/dist-packages (from widgetsnbextension~=3.6.0->ipywidgets>=7.6.0->ipycytoscape->qc_grader==0.19.7) (6.5.5)\n",
            "Requirement already satisfied: parso<0.9.0,>=0.8.3 in /usr/local/lib/python3.10/dist-packages (from jedi>=0.16->ipython>=4.0.0->ipywidgets>=7.6.0->ipycytoscape->qc_grader==0.19.7) (0.8.4)\n",
            "Requirement already satisfied: jinja2 in /usr/local/lib/python3.10/dist-packages (from notebook>=4.4.1->widgetsnbextension~=3.6.0->ipywidgets>=7.6.0->ipycytoscape->qc_grader==0.19.7) (3.1.4)\n",
            "Requirement already satisfied: pyzmq<25,>=17 in /usr/local/lib/python3.10/dist-packages (from notebook>=4.4.1->widgetsnbextension~=3.6.0->ipywidgets>=7.6.0->ipycytoscape->qc_grader==0.19.7) (24.0.1)\n",
            "Requirement already satisfied: argon2-cffi in /usr/local/lib/python3.10/dist-packages (from notebook>=4.4.1->widgetsnbextension~=3.6.0->ipywidgets>=7.6.0->ipycytoscape->qc_grader==0.19.7) (23.1.0)\n",
            "Requirement already satisfied: jupyter-core>=4.6.1 in /usr/local/lib/python3.10/dist-packages (from notebook>=4.4.1->widgetsnbextension~=3.6.0->ipywidgets>=7.6.0->ipycytoscape->qc_grader==0.19.7) (5.7.2)\n",
            "Requirement already satisfied: nbformat in /usr/local/lib/python3.10/dist-packages (from notebook>=4.4.1->widgetsnbextension~=3.6.0->ipywidgets>=7.6.0->ipycytoscape->qc_grader==0.19.7) (5.10.4)\n",
            "Requirement already satisfied: nbconvert>=5 in /usr/local/lib/python3.10/dist-packages (from notebook>=4.4.1->widgetsnbextension~=3.6.0->ipywidgets>=7.6.0->ipycytoscape->qc_grader==0.19.7) (6.5.4)\n",
            "Requirement already satisfied: nest-asyncio>=1.5 in /usr/local/lib/python3.10/dist-packages (from notebook>=4.4.1->widgetsnbextension~=3.6.0->ipywidgets>=7.6.0->ipycytoscape->qc_grader==0.19.7) (1.6.0)\n",
            "Requirement already satisfied: Send2Trash>=1.8.0 in /usr/local/lib/python3.10/dist-packages (from notebook>=4.4.1->widgetsnbextension~=3.6.0->ipywidgets>=7.6.0->ipycytoscape->qc_grader==0.19.7) (1.8.3)\n",
            "Requirement already satisfied: terminado>=0.8.3 in /usr/local/lib/python3.10/dist-packages (from notebook>=4.4.1->widgetsnbextension~=3.6.0->ipywidgets>=7.6.0->ipycytoscape->qc_grader==0.19.7) (0.18.1)\n",
            "Requirement already satisfied: prometheus-client in /usr/local/lib/python3.10/dist-packages (from notebook>=4.4.1->widgetsnbextension~=3.6.0->ipywidgets>=7.6.0->ipycytoscape->qc_grader==0.19.7) (0.20.0)\n",
            "Requirement already satisfied: nbclassic>=0.4.7 in /usr/local/lib/python3.10/dist-packages (from notebook>=4.4.1->widgetsnbextension~=3.6.0->ipywidgets>=7.6.0->ipycytoscape->qc_grader==0.19.7) (1.1.0)\n",
            "Requirement already satisfied: python-dateutil>=2.1 in /usr/local/lib/python3.10/dist-packages (from jupyter-client->ipykernel>=4.5.1->ipywidgets>=7.6.0->ipycytoscape->qc_grader==0.19.7) (2.8.2)\n",
            "Requirement already satisfied: ptyprocess>=0.5 in /usr/local/lib/python3.10/dist-packages (from pexpect>4.3->ipython>=4.0.0->ipywidgets>=7.6.0->ipycytoscape->qc_grader==0.19.7) (0.7.0)\n",
            "Requirement already satisfied: wcwidth in /usr/local/lib/python3.10/dist-packages (from prompt-toolkit!=3.0.0,!=3.0.1,<3.1.0,>=2.0.0->ipython>=4.0.0->ipywidgets>=7.6.0->ipycytoscape->qc_grader==0.19.7) (0.2.13)\n",
            "Requirement already satisfied: platformdirs>=2.5 in /usr/local/lib/python3.10/dist-packages (from jupyter-core>=4.6.1->notebook>=4.4.1->widgetsnbextension~=3.6.0->ipywidgets>=7.6.0->ipycytoscape->qc_grader==0.19.7) (4.2.2)\n",
            "Requirement already satisfied: notebook-shim>=0.2.3 in /usr/local/lib/python3.10/dist-packages (from nbclassic>=0.4.7->notebook>=4.4.1->widgetsnbextension~=3.6.0->ipywidgets>=7.6.0->ipycytoscape->qc_grader==0.19.7) (0.2.4)\n",
            "Requirement already satisfied: lxml in /usr/local/lib/python3.10/dist-packages (from nbconvert>=5->notebook>=4.4.1->widgetsnbextension~=3.6.0->ipywidgets>=7.6.0->ipycytoscape->qc_grader==0.19.7) (4.9.4)\n",
            "Requirement already satisfied: beautifulsoup4 in /usr/local/lib/python3.10/dist-packages (from nbconvert>=5->notebook>=4.4.1->widgetsnbextension~=3.6.0->ipywidgets>=7.6.0->ipycytoscape->qc_grader==0.19.7) (4.12.3)\n",
            "Requirement already satisfied: bleach in /usr/local/lib/python3.10/dist-packages (from nbconvert>=5->notebook>=4.4.1->widgetsnbextension~=3.6.0->ipywidgets>=7.6.0->ipycytoscape->qc_grader==0.19.7) (6.1.0)\n",
            "Requirement already satisfied: defusedxml in /usr/local/lib/python3.10/dist-packages (from nbconvert>=5->notebook>=4.4.1->widgetsnbextension~=3.6.0->ipywidgets>=7.6.0->ipycytoscape->qc_grader==0.19.7) (0.7.1)\n",
            "Requirement already satisfied: entrypoints>=0.2.2 in /usr/local/lib/python3.10/dist-packages (from nbconvert>=5->notebook>=4.4.1->widgetsnbextension~=3.6.0->ipywidgets>=7.6.0->ipycytoscape->qc_grader==0.19.7) (0.4)\n",
            "Requirement already satisfied: jupyterlab-pygments in /usr/local/lib/python3.10/dist-packages (from nbconvert>=5->notebook>=4.4.1->widgetsnbextension~=3.6.0->ipywidgets>=7.6.0->ipycytoscape->qc_grader==0.19.7) (0.3.0)\n",
            "Requirement already satisfied: MarkupSafe>=2.0 in /usr/local/lib/python3.10/dist-packages (from nbconvert>=5->notebook>=4.4.1->widgetsnbextension~=3.6.0->ipywidgets>=7.6.0->ipycytoscape->qc_grader==0.19.7) (2.1.5)\n",
            "Requirement already satisfied: mistune<2,>=0.8.1 in /usr/local/lib/python3.10/dist-packages (from nbconvert>=5->notebook>=4.4.1->widgetsnbextension~=3.6.0->ipywidgets>=7.6.0->ipycytoscape->qc_grader==0.19.7) (0.8.4)\n",
            "Requirement already satisfied: nbclient>=0.5.0 in /usr/local/lib/python3.10/dist-packages (from nbconvert>=5->notebook>=4.4.1->widgetsnbextension~=3.6.0->ipywidgets>=7.6.0->ipycytoscape->qc_grader==0.19.7) (0.10.0)\n",
            "Requirement already satisfied: pandocfilters>=1.4.1 in /usr/local/lib/python3.10/dist-packages (from nbconvert>=5->notebook>=4.4.1->widgetsnbextension~=3.6.0->ipywidgets>=7.6.0->ipycytoscape->qc_grader==0.19.7) (1.5.1)\n",
            "Requirement already satisfied: tinycss2 in /usr/local/lib/python3.10/dist-packages (from nbconvert>=5->notebook>=4.4.1->widgetsnbextension~=3.6.0->ipywidgets>=7.6.0->ipycytoscape->qc_grader==0.19.7) (1.3.0)\n",
            "Requirement already satisfied: fastjsonschema>=2.15 in /usr/local/lib/python3.10/dist-packages (from nbformat->notebook>=4.4.1->widgetsnbextension~=3.6.0->ipywidgets>=7.6.0->ipycytoscape->qc_grader==0.19.7) (2.20.0)\n",
            "Requirement already satisfied: jsonschema>=2.6 in /usr/local/lib/python3.10/dist-packages (from nbformat->notebook>=4.4.1->widgetsnbextension~=3.6.0->ipywidgets>=7.6.0->ipycytoscape->qc_grader==0.19.7) (4.19.2)\n",
            "Requirement already satisfied: six>=1.5 in /usr/local/lib/python3.10/dist-packages (from python-dateutil>=2.1->jupyter-client->ipykernel>=4.5.1->ipywidgets>=7.6.0->ipycytoscape->qc_grader==0.19.7) (1.16.0)\n",
            "Requirement already satisfied: argon2-cffi-bindings in /usr/local/lib/python3.10/dist-packages (from argon2-cffi->notebook>=4.4.1->widgetsnbextension~=3.6.0->ipywidgets>=7.6.0->ipycytoscape->qc_grader==0.19.7) (21.2.0)\n",
            "Requirement already satisfied: attrs>=22.2.0 in /usr/local/lib/python3.10/dist-packages (from jsonschema>=2.6->nbformat->notebook>=4.4.1->widgetsnbextension~=3.6.0->ipywidgets>=7.6.0->ipycytoscape->qc_grader==0.19.7) (23.2.0)\n",
            "Requirement already satisfied: jsonschema-specifications>=2023.03.6 in /usr/local/lib/python3.10/dist-packages (from jsonschema>=2.6->nbformat->notebook>=4.4.1->widgetsnbextension~=3.6.0->ipywidgets>=7.6.0->ipycytoscape->qc_grader==0.19.7) (2023.12.1)\n",
            "Requirement already satisfied: referencing>=0.28.4 in /usr/local/lib/python3.10/dist-packages (from jsonschema>=2.6->nbformat->notebook>=4.4.1->widgetsnbextension~=3.6.0->ipywidgets>=7.6.0->ipycytoscape->qc_grader==0.19.7) (0.35.1)\n",
            "Requirement already satisfied: rpds-py>=0.7.1 in /usr/local/lib/python3.10/dist-packages (from jsonschema>=2.6->nbformat->notebook>=4.4.1->widgetsnbextension~=3.6.0->ipywidgets>=7.6.0->ipycytoscape->qc_grader==0.19.7) (0.19.0)\n",
            "Requirement already satisfied: jupyter-server<3,>=1.8 in /usr/local/lib/python3.10/dist-packages (from notebook-shim>=0.2.3->nbclassic>=0.4.7->notebook>=4.4.1->widgetsnbextension~=3.6.0->ipywidgets>=7.6.0->ipycytoscape->qc_grader==0.19.7) (1.24.0)\n",
            "Requirement already satisfied: cffi>=1.0.1 in /usr/local/lib/python3.10/dist-packages (from argon2-cffi-bindings->argon2-cffi->notebook>=4.4.1->widgetsnbextension~=3.6.0->ipywidgets>=7.6.0->ipycytoscape->qc_grader==0.19.7) (1.16.0)\n",
            "Requirement already satisfied: soupsieve>1.2 in /usr/local/lib/python3.10/dist-packages (from beautifulsoup4->nbconvert>=5->notebook>=4.4.1->widgetsnbextension~=3.6.0->ipywidgets>=7.6.0->ipycytoscape->qc_grader==0.19.7) (2.5)\n",
            "Requirement already satisfied: webencodings in /usr/local/lib/python3.10/dist-packages (from bleach->nbconvert>=5->notebook>=4.4.1->widgetsnbextension~=3.6.0->ipywidgets>=7.6.0->ipycytoscape->qc_grader==0.19.7) (0.5.1)\n",
            "Requirement already satisfied: pycparser in /usr/local/lib/python3.10/dist-packages (from cffi>=1.0.1->argon2-cffi-bindings->argon2-cffi->notebook>=4.4.1->widgetsnbextension~=3.6.0->ipywidgets>=7.6.0->ipycytoscape->qc_grader==0.19.7) (2.22)\n",
            "Requirement already satisfied: anyio<4,>=3.1.0 in /usr/local/lib/python3.10/dist-packages (from jupyter-server<3,>=1.8->notebook-shim>=0.2.3->nbclassic>=0.4.7->notebook>=4.4.1->widgetsnbextension~=3.6.0->ipywidgets>=7.6.0->ipycytoscape->qc_grader==0.19.7) (3.7.1)\n",
            "Requirement already satisfied: websocket-client in /usr/local/lib/python3.10/dist-packages (from jupyter-server<3,>=1.8->notebook-shim>=0.2.3->nbclassic>=0.4.7->notebook>=4.4.1->widgetsnbextension~=3.6.0->ipywidgets>=7.6.0->ipycytoscape->qc_grader==0.19.7) (1.8.0)\n",
            "Requirement already satisfied: idna>=2.8 in /usr/local/lib/python3.10/dist-packages (from anyio<4,>=3.1.0->jupyter-server<3,>=1.8->notebook-shim>=0.2.3->nbclassic>=0.4.7->notebook>=4.4.1->widgetsnbextension~=3.6.0->ipywidgets>=7.6.0->ipycytoscape->qc_grader==0.19.7) (3.7)\n",
            "Requirement already satisfied: sniffio>=1.1 in /usr/local/lib/python3.10/dist-packages (from anyio<4,>=3.1.0->jupyter-server<3,>=1.8->notebook-shim>=0.2.3->nbclassic>=0.4.7->notebook>=4.4.1->widgetsnbextension~=3.6.0->ipywidgets>=7.6.0->ipycytoscape->qc_grader==0.19.7) (1.3.1)\n",
            "Requirement already satisfied: exceptiongroup in /usr/local/lib/python3.10/dist-packages (from anyio<4,>=3.1.0->jupyter-server<3,>=1.8->notebook-shim>=0.2.3->nbclassic>=0.4.7->notebook>=4.4.1->widgetsnbextension~=3.6.0->ipywidgets>=7.6.0->ipycytoscape->qc_grader==0.19.7) (1.2.2)\n",
            "Downloading jsonpickle-3.0.3-py3-none-any.whl (40 kB)\n",
            "\u001b[2K   \u001b[90m━━━━━━━━━━━━━━━━━━━━━━━━━━━━━━━━━━━━━━━━\u001b[0m \u001b[32m40.8/40.8 kB\u001b[0m \u001b[31m2.7 MB/s\u001b[0m eta \u001b[36m0:00:00\u001b[0m\n",
            "\u001b[?25hDownloading networkx-3.2.1-py3-none-any.whl (1.6 MB)\n",
            "\u001b[2K   \u001b[90m━━━━━━━━━━━━━━━━━━━━━━━━━━━━━━━━━━━━━━━━\u001b[0m \u001b[32m1.6/1.6 MB\u001b[0m \u001b[31m26.3 MB/s\u001b[0m eta \u001b[36m0:00:00\u001b[0m\n",
            "\u001b[?25hDownloading ipycytoscape-1.3.3-py2.py3-none-any.whl (3.6 MB)\n",
            "\u001b[2K   \u001b[90m━━━━━━━━━━━━━━━━━━━━━━━━━━━━━━━━━━━━━━━━\u001b[0m \u001b[32m3.6/3.6 MB\u001b[0m \u001b[31m62.4 MB/s\u001b[0m eta \u001b[36m0:00:00\u001b[0m\n",
            "\u001b[?25hDownloading typeguard-4.3.0-py3-none-any.whl (35 kB)\n",
            "Downloading spectate-1.0.1-py2.py3-none-any.whl (11 kB)\n",
            "Downloading jedi-0.19.1-py2.py3-none-any.whl (1.6 MB)\n",
            "\u001b[2K   \u001b[90m━━━━━━━━━━━━━━━━━━━━━━━━━━━━━━━━━━━━━━━━\u001b[0m \u001b[32m1.6/1.6 MB\u001b[0m \u001b[31m56.5 MB/s\u001b[0m eta \u001b[36m0:00:00\u001b[0m\n",
            "\u001b[?25hBuilding wheels for collected packages: qc_grader\n",
            "  Building wheel for qc_grader (setup.py) ... \u001b[?25l\u001b[?25hdone\n",
            "  Created wheel for qc_grader: filename=qc_grader-0.19.7-py3-none-any.whl size=41436 sha256=83c23b0b24ac6d3cc88b1c4343ad40b33e12f5d851f00b32b86e0454ffcde250\n",
            "  Stored in directory: /tmp/pip-ephem-wheel-cache-dnyzvnrw/wheels/7e/67/91/88d6a5b4dd4beb318ed4e79c807e2be98b7d3c2ea66565a116\n",
            "Successfully built qc_grader\n",
            "Installing collected packages: typeguard, spectate, networkx, jsonpickle, jedi, ipycytoscape, qc_grader\n",
            "  Attempting uninstall: networkx\n",
            "    Found existing installation: networkx 3.3\n",
            "    Uninstalling networkx-3.3:\n",
            "      Successfully uninstalled networkx-3.3\n",
            "  Attempting uninstall: jsonpickle\n",
            "    Found existing installation: jsonpickle 3.2.2\n",
            "    Uninstalling jsonpickle-3.2.2:\n",
            "      Successfully uninstalled jsonpickle-3.2.2\n",
            "\u001b[31mERROR: pip's dependency resolver does not currently take into account all the packages that are installed. This behaviour is the source of the following dependency conflicts.\n",
            "torch 2.3.1+cu121 requires nvidia-cublas-cu12==12.1.3.1; platform_system == \"Linux\" and platform_machine == \"x86_64\", which is not installed.\n",
            "torch 2.3.1+cu121 requires nvidia-cuda-cupti-cu12==12.1.105; platform_system == \"Linux\" and platform_machine == \"x86_64\", which is not installed.\n",
            "torch 2.3.1+cu121 requires nvidia-cuda-nvrtc-cu12==12.1.105; platform_system == \"Linux\" and platform_machine == \"x86_64\", which is not installed.\n",
            "torch 2.3.1+cu121 requires nvidia-cuda-runtime-cu12==12.1.105; platform_system == \"Linux\" and platform_machine == \"x86_64\", which is not installed.\n",
            "torch 2.3.1+cu121 requires nvidia-cudnn-cu12==8.9.2.26; platform_system == \"Linux\" and platform_machine == \"x86_64\", which is not installed.\n",
            "torch 2.3.1+cu121 requires nvidia-cufft-cu12==11.0.2.54; platform_system == \"Linux\" and platform_machine == \"x86_64\", which is not installed.\n",
            "torch 2.3.1+cu121 requires nvidia-curand-cu12==10.3.2.106; platform_system == \"Linux\" and platform_machine == \"x86_64\", which is not installed.\n",
            "torch 2.3.1+cu121 requires nvidia-cusolver-cu12==11.4.5.107; platform_system == \"Linux\" and platform_machine == \"x86_64\", which is not installed.\n",
            "torch 2.3.1+cu121 requires nvidia-cusparse-cu12==12.1.0.106; platform_system == \"Linux\" and platform_machine == \"x86_64\", which is not installed.\n",
            "torch 2.3.1+cu121 requires nvidia-nccl-cu12==2.20.5; platform_system == \"Linux\" and platform_machine == \"x86_64\", which is not installed.\n",
            "torch 2.3.1+cu121 requires nvidia-nvtx-cu12==12.1.105; platform_system == \"Linux\" and platform_machine == \"x86_64\", which is not installed.\u001b[0m\u001b[31m\n",
            "\u001b[0mSuccessfully installed ipycytoscape-1.3.3 jedi-0.19.1 jsonpickle-3.0.3 networkx-3.2.1 qc_grader-0.19.7 spectate-1.0.1 typeguard-4.3.0\n"
          ]
        }
      ]
    },
    {
      "cell_type": "code",
      "execution_count": null,
      "id": "adcce344-f41c-444a-b23a-5a203a37f890",
      "metadata": {
        "id": "adcce344-f41c-444a-b23a-5a203a37f890"
      },
      "outputs": [],
      "source": [
        "from qiskit.circuit.library import EfficientSU2\n",
        "\n",
        "num_qubits = 50\n",
        "reps = 2\n",
        "abstract_circuit = EfficientSU2(num_qubits, reps=reps, entanglement=\"pairwise\")"
      ]
    },
    {
      "cell_type": "markdown",
      "id": "7b79227a-fa15-48f3-8e53-f80ac3dd5814",
      "metadata": {
        "id": "7b79227a-fa15-48f3-8e53-f80ac3dd5814"
      },
      "source": [
        "##### Assign parameters"
      ]
    },
    {
      "cell_type": "markdown",
      "id": "37351339-f1ca-4827-a693-5d4587dbe93f",
      "metadata": {
        "id": "37351339-f1ca-4827-a693-5d4587dbe93f"
      },
      "source": [
        "Next, create some random parameters and assign them to the circuit."
      ]
    },
    {
      "cell_type": "code",
      "execution_count": null,
      "id": "83e883bc-d145-478e-8ae7-6e20493cdf93",
      "metadata": {
        "id": "83e883bc-d145-478e-8ae7-6e20493cdf93"
      },
      "outputs": [],
      "source": [
        "import numpy as np\n",
        "\n",
        "num_parameters = abstract_circuit.num_parameters\n",
        "param_values = np.random.uniform(-np.pi, np.pi, size=num_parameters)\n",
        "\n",
        "abstract_circuit.assign_parameters(param_values, inplace=True)"
      ]
    },
    {
      "cell_type": "markdown",
      "id": "424f2a73-ff72-4548-b007-ef233ecb39c8",
      "metadata": {
        "id": "424f2a73-ff72-4548-b007-ef233ecb39c8"
      },
      "source": [
        "##### Append uncompute block"
      ]
    },
    {
      "cell_type": "markdown",
      "id": "c7bfc6a4-45ff-4638-b854-fe0f7c0c238f",
      "metadata": {
        "id": "c7bfc6a4-45ff-4638-b854-fe0f7c0c238f"
      },
      "source": [
        "At the end of the lab, you want to compare the output of the quantum computer with the ideal answer. For small quantum circuits you can calculate this value by simulating the circuit on a classical computer, but this is not possible for larger, utility-scale circuits. You can work around this issue with the \"mirror circuit\" technique (also known as \"compute-uncompute\"), which is useful for benchmarking the performance of quantum devices.\n",
        "\n",
        "In the mirror circuit technique, you concatenate the circuit with its inverse, which is formed by inverting each gate of the circuit in reverse order. The resulting circuit implements the identity operator, which can trivially be simulated. Because the structure of the original circuit is preserved in the mirror circuit, executing the mirror circuit still gives an idea of how the quantum device would perform on the original circuit.\n",
        "\n",
        "The following code cell constructs the mirror circuit using the [`UnitaryOverlap`](https://docs.quantum.ibm.com/api/qiskit/qiskit.circuit.library.UnitaryOverlap) class from Qiskit's circuit library. Before mirroring the circuit, append a barrier instruction to it to prevent the transpiler from merging the two parts of the circuit on either side of the barrier. Without the barrier, the transpiler would merge the original circuit with its inverse, resulting in a transpiled circuit without any gates."
      ]
    },
    {
      "cell_type": "code",
      "execution_count": null,
      "id": "d2f6a853-e23c-4b5f-8f53-a525ba110932",
      "metadata": {
        "id": "d2f6a853-e23c-4b5f-8f53-a525ba110932"
      },
      "outputs": [],
      "source": [
        "from qiskit.circuit.library import UnitaryOverlap\n",
        "\n",
        "abstract_circuit.barrier()\n",
        "abstract_circuit = UnitaryOverlap(abstract_circuit, abstract_circuit)"
      ]
    },
    {
      "cell_type": "markdown",
      "id": "4df05918",
      "metadata": {
        "id": "4df05918"
      },
      "source": [
        "It is recommended to draw the circuit to visualize what you are going to run. However, a 50-qubit circuit may be too dense to visualize effectively. Therefore, create a smaller abstract circuit with 4 qubits by following the above steps (i.e., create a 4-qubit `EfficientSU2` circuit, assign parameters, and append uncomput block). Then, draw the circuit by following one of the [visualization techniques](https://docs.quantum.ibm.com/build/circuit-visualization). Note that the 4-qubit circuit is only for visualization. You must execute the 50-qubit circuit with error mitigation and suppression."
      ]
    },
    {
      "cell_type": "code",
      "source": [
        "#4-qubit circuit for Visualization\n",
        "from qiskit.circuit.library import EfficientSU2\n",
        "import numpy as np\n",
        "\n",
        "num_qubits = 4\n",
        "reps = 2\n",
        "abstract_circuit_4_qubit = EfficientSU2(num_qubits, reps=reps, entanglement=\"pairwise\")\n",
        "\n",
        "#Assign random parameters to circuits\n",
        "num_parameters = abstract_circuit_4_qubit.num_parameters\n",
        "param_values = np.random.uniform(-np.pi, np.pi, size=num_parameters)\n",
        "\n",
        "abstract_circuit_4_qubit.assign_parameters(param_values, inplace=True)\n",
        "\n",
        "from qiskit.circuit.library import UnitaryOverlap\n",
        "\n",
        "abstract_circuit_4_qubit.barrier()\n",
        "abstract_circuit_4_qubit = UnitaryOverlap(abstract_circuit_4_qubit, abstract_circuit_4_qubit)"
      ],
      "metadata": {
        "id": "vvRrabhNBEle"
      },
      "id": "vvRrabhNBEle",
      "execution_count": null,
      "outputs": []
    },
    {
      "cell_type": "code",
      "source": [
        "from qiskit import QuantumCircuit\n",
        "\n",
        "# Matplotlib drawing\n",
        "#abstract_circuit_4_qubit.draw(output=\"mpl\")\n",
        "abstract_circuit_4_qubit.draw(fold = -1, idle_wires= False)"
      ],
      "metadata": {
        "colab": {
          "base_uri": "https://localhost:8080/",
          "height": 176
        },
        "id": "c3fdXtBUBaTk",
        "outputId": "424e0cc9-25f1-4007-a885-102ed9f8b2d7"
      },
      "id": "c3fdXtBUBaTk",
      "execution_count": null,
      "outputs": [
        {
          "output_type": "execute_result",
          "data": {
            "text/plain": [
              "     ┌──────────────────────────────────────────────────────────────────────────────────────────────────────────────────────────────────────────────────────────────────────────────────────────────────────────────┐ ░  ░ ┌─────────────────────────────────────────────────────────────────────────────────────────────────────────────────────────────────────────────────────────────────────────────────────────────────────────────────┐\n",
              "q_0: ┤0                                                                                                                                                                                                             ├─░──░─┤0                                                                                                                                                                                                                ├\n",
              "     │                                                                                                                                                                                                              │ ░  ░ │                                                                                                                                                                                                                 │\n",
              "q_1: ┤1                                                                                                                                                                                                             ├─░──░─┤1                                                                                                                                                                                                                ├\n",
              "     │  EfficientSU2(0.38059,-1.2163,0.038799,1.2168,2.9756,0.89347,-1.6627,1.7671,-2.4022,-0.35803,0.93408,3.1054,0.55471,-1.5268,-2.4146,0.73841,-1.0198,0.28357,-1.048,0.12661,-1.5744,-1.2957,-0.7684,-0.51426) │ ░  ░ │  EfficientSU2_dg(0.38059,-1.2163,0.038799,1.2168,2.9756,0.89347,-1.6627,1.7671,-2.4022,-0.35803,0.93408,3.1054,0.55471,-1.5268,-2.4146,0.73841,-1.0198,0.28357,-1.048,0.12661,-1.5744,-1.2957,-0.7684,-0.51426) │\n",
              "q_2: ┤2                                                                                                                                                                                                             ├─░──░─┤2                                                                                                                                                                                                                ├\n",
              "     │                                                                                                                                                                                                              │ ░  ░ │                                                                                                                                                                                                                 │\n",
              "q_3: ┤3                                                                                                                                                                                                             ├─░──░─┤3                                                                                                                                                                                                                ├\n",
              "     └──────────────────────────────────────────────────────────────────────────────────────────────────────────────────────────────────────────────────────────────────────────────────────────────────────────────┘ ░  ░ └─────────────────────────────────────────────────────────────────────────────────────────────────────────────────────────────────────────────────────────────────────────────────────────────────────────────────┘"
            ],
            "text/html": [
              "<pre style=\"word-wrap: normal;white-space: pre;background: #fff0;line-height: 1.1;font-family: &quot;Courier New&quot;,Courier,monospace\">     ┌──────────────────────────────────────────────────────────────────────────────────────────────────────────────────────────────────────────────────────────────────────────────────────────────────────────────┐ ░  ░ ┌─────────────────────────────────────────────────────────────────────────────────────────────────────────────────────────────────────────────────────────────────────────────────────────────────────────────────┐\n",
              "q_0: ┤0                                                                                                                                                                                                             ├─░──░─┤0                                                                                                                                                                                                                ├\n",
              "     │                                                                                                                                                                                                              │ ░  ░ │                                                                                                                                                                                                                 │\n",
              "q_1: ┤1                                                                                                                                                                                                             ├─░──░─┤1                                                                                                                                                                                                                ├\n",
              "     │  EfficientSU2(0.38059,-1.2163,0.038799,1.2168,2.9756,0.89347,-1.6627,1.7671,-2.4022,-0.35803,0.93408,3.1054,0.55471,-1.5268,-2.4146,0.73841,-1.0198,0.28357,-1.048,0.12661,-1.5744,-1.2957,-0.7684,-0.51426) │ ░  ░ │  EfficientSU2_dg(0.38059,-1.2163,0.038799,1.2168,2.9756,0.89347,-1.6627,1.7671,-2.4022,-0.35803,0.93408,3.1054,0.55471,-1.5268,-2.4146,0.73841,-1.0198,0.28357,-1.048,0.12661,-1.5744,-1.2957,-0.7684,-0.51426) │\n",
              "q_2: ┤2                                                                                                                                                                                                             ├─░──░─┤2                                                                                                                                                                                                                ├\n",
              "     │                                                                                                                                                                                                              │ ░  ░ │                                                                                                                                                                                                                 │\n",
              "q_3: ┤3                                                                                                                                                                                                             ├─░──░─┤3                                                                                                                                                                                                                ├\n",
              "     └──────────────────────────────────────────────────────────────────────────────────────────────────────────────────────────────────────────────────────────────────────────────────────────────────────────────┘ ░  ░ └─────────────────────────────────────────────────────────────────────────────────────────────────────────────────────────────────────────────────────────────────────────────────────────────────────────────────┘</pre>"
            ]
          },
          "metadata": {},
          "execution_count": 16
        }
      ]
    },
    {
      "cell_type": "code",
      "source": [
        "num_qubits = 50"
      ],
      "metadata": {
        "id": "lwN_zkYEDDoB"
      },
      "id": "lwN_zkYEDDoB",
      "execution_count": null,
      "outputs": []
    },
    {
      "cell_type": "markdown",
      "id": "d7610c00-c613-42b9-8113-98b07566372d",
      "metadata": {
        "id": "d7610c00-c613-42b9-8113-98b07566372d"
      },
      "source": [
        "#### Observables"
      ]
    },
    {
      "cell_type": "markdown",
      "id": "6e4638e9-4674-45df-970b-4ee41976fd1b",
      "metadata": {
        "id": "6e4638e9-4674-45df-970b-4ee41976fd1b"
      },
      "source": [
        "Next, define the observables. You will create weight-1 $\\langle Z_i \\rangle$ observables for each qubit in the circuit. Example: For a $4$-qubit abstract circuit, you will create $4$ observables each with a single $\\langle Z \\rangle$ acting on a different qubit, i.e., $IIIZ$, $IIZI$, $IZII$, and $ZIII$."
      ]
    },
    {
      "cell_type": "code",
      "execution_count": null,
      "id": "4ce6d99c-cef8-4144-ab3a-62434f18b583",
      "metadata": {
        "id": "4ce6d99c-cef8-4144-ab3a-62434f18b583"
      },
      "outputs": [],
      "source": [
        "from qiskit.quantum_info import SparsePauliOp\n",
        "\n",
        "paulis = [\"\".join(\"Z\" if i == q else \"I\" for i in range(num_qubits)) for q in range(num_qubits)]\n",
        "abstract_observables = [SparsePauliOp(pauli) for pauli in paulis]"
      ]
    },
    {
      "cell_type": "markdown",
      "id": "0245e086-c0f2-48b1-a8ea-7f2c8479e191",
      "metadata": {
        "id": "0245e086-c0f2-48b1-a8ea-7f2c8479e191"
      },
      "source": [
        "### Optimize"
      ]
    },
    {
      "cell_type": "markdown",
      "id": "864b7424-4c46-44e9-a76c-00c24732bcc0",
      "metadata": {
        "id": "864b7424-4c46-44e9-a76c-00c24732bcc0"
      },
      "source": [
        "You must optimize your circuit (and observables) and make them target hardware compatible before executing. You need to choose the hardware device to use before optimizing your circuit. The following code cell requests the least busy utility-scale device with at least 127 qubits."
      ]
    },
    {
      "cell_type": "code",
      "source": [
        "%set_env QXToken=83929dc16f4bc749feed93049d2f4ef81b63fd6cffbbe2195f68fcb217f324137228edc161984889bf018862ec410f76bf4d35553912629875c5fe380d6d4a7c"
      ],
      "metadata": {
        "colab": {
          "base_uri": "https://localhost:8080/"
        },
        "id": "9ARE1qaRDeWI",
        "outputId": "9baa9ec2-37b7-4e3a-b3b3-747f7daf18f5"
      },
      "id": "9ARE1qaRDeWI",
      "execution_count": null,
      "outputs": [
        {
          "output_type": "stream",
          "name": "stdout",
          "text": [
            "env: QXToken=83929dc16f4bc749feed93049d2f4ef81b63fd6cffbbe2195f68fcb217f324137228edc161984889bf018862ec410f76bf4d35553912629875c5fe380d6d4a7c\n"
          ]
        }
      ]
    },
    {
      "cell_type": "code",
      "execution_count": null,
      "id": "4ae2b894-cc8a-4cdd-99a8-271fdee5d3fb",
      "metadata": {
        "colab": {
          "base_uri": "https://localhost:8080/",
          "height": 55
        },
        "id": "4ae2b894-cc8a-4cdd-99a8-271fdee5d3fb",
        "outputId": "80e142e9-4a77-4d6a-9b60-a244130b0000"
      },
      "outputs": [
        {
          "output_type": "execute_result",
          "data": {
            "text/plain": [
              "'ibm_osaka'"
            ],
            "application/vnd.google.colaboratory.intrinsic+json": {
              "type": "string"
            }
          },
          "metadata": {},
          "execution_count": 26
        }
      ],
      "source": [
        "from qiskit_ibm_runtime import QiskitRuntimeService\n",
        "import os\n",
        "\n",
        "#QiskitRuntimeService.save_account(channel ='ibm_quantum', token = os.environ['QXToken'], set_as_default= True)\n",
        "\n",
        "service = QiskitRuntimeService()\n",
        "backend = service.least_busy(min_num_qubits=127)\n",
        "backend.name"
      ]
    },
    {
      "cell_type": "markdown",
      "id": "9a8e9161-0bf3-4eb7-9e47-0465bf4f4765",
      "metadata": {
        "id": "9a8e9161-0bf3-4eb7-9e47-0465bf4f4765"
      },
      "source": [
        "#### Target circuit"
      ]
    },
    {
      "cell_type": "markdown",
      "id": "526f28f9-e05f-4bfc-a686-da9f54dae4bd",
      "metadata": {
        "id": "526f28f9-e05f-4bfc-a686-da9f54dae4bd"
      },
      "source": [
        "Optimizing you circuit involves transpiling it for your chosen backend. You can transpile your circuit by creating a pass manager and then running the pass manager on the circuit. An easy way to create a pass manager is to use the [`generate_preset_pass_manager`](https://docs.quantum.ibm.com/api/qiskit/transpiler_preset#qiskit.transpiler.preset_passmanagers.generate_preset_pass_manager) function. You have learnt about transpilation and pass managers in an earlier lab."
      ]
    },
    {
      "cell_type": "code",
      "execution_count": null,
      "id": "b3383a3f-33df-49ee-bbed-4d3b124ab06b",
      "metadata": {
        "id": "b3383a3f-33df-49ee-bbed-4d3b124ab06b"
      },
      "outputs": [],
      "source": [
        "from qiskit.transpiler.preset_passmanagers import generate_preset_pass_manager\n",
        "\n",
        "pm = generate_preset_pass_manager(backend=backend, optimization_level=3)\n",
        "target_circuit = pm.run(abstract_circuit)"
      ]
    },
    {
      "cell_type": "markdown",
      "id": "34d1a74c-d861-4596-87e0-4379231a0001",
      "metadata": {
        "id": "34d1a74c-d861-4596-87e0-4379231a0001"
      },
      "source": [
        "#### Target observables"
      ]
    },
    {
      "cell_type": "markdown",
      "id": "be3bf6d6-09ca-47fd-8191-88d1247de934",
      "metadata": {
        "id": "be3bf6d6-09ca-47fd-8191-88d1247de934"
      },
      "source": [
        "The transpilation process has mapped the virtual qubits of the abstract circuit to physical qubits on the hardware. The information about the qubit layout is stored in the layout attribute of the transpiled target circuit. The observables were defined in terms of the virtual qubits, so you need to apply this layout to the observables, which you can do with the [`apply_layout`](https://docs.quantum.ibm.com/api/qiskit/qiskit.quantum_info.SparsePauliOp#apply_layout) method of `SparsePauliOp`."
      ]
    },
    {
      "cell_type": "code",
      "execution_count": null,
      "id": "0dffc766-c698-45c7-999b-215584d3c85c",
      "metadata": {
        "id": "0dffc766-c698-45c7-999b-215584d3c85c"
      },
      "outputs": [],
      "source": [
        "layout = target_circuit.layout\n",
        "target_observables = [abs_obs.apply_layout(layout=layout) for abs_obs in abstract_observables]"
      ]
    },
    {
      "cell_type": "markdown",
      "id": "a99266be-5f25-4078-8c7c-20dd7ba94119",
      "metadata": {
        "id": "a99266be-5f25-4078-8c7c-20dd7ba94119"
      },
      "source": [
        "### Execute\n",
        "(_Excercises_)"
      ]
    },
    {
      "cell_type": "markdown",
      "id": "e821a897-411e-4fad-9532-0b073355c414",
      "metadata": {
        "id": "e821a897-411e-4fad-9532-0b073355c414"
      },
      "source": [
        "Now, execute the target circuit and observables with different configurations of error suppression and mitigation from the `Estimator` primitive. You will perform **seven excercises** where you submit seven different jobs (each with same circuit and observables) with following settings.\n",
        "\n",
        "- **Excercise-1**: No suppression/mitigation (_worked out for reference_)\n",
        "- **Excercise-2**: Dynamical Decoupling\n",
        "- **Excercise-3**: Measurement Mitigation (TREX)\n",
        "- **Excercise-4**: Zero Noise Extrapolation (ZNE)\n",
        "   - _Excercise-4a_: ZNE (exponential extrapolator)\n",
        "   - _Excercise-4b_: ZNE (linear extrapolator)\n",
        "- **Excercise-5**: ZNE + Gate Twirling\n",
        "- **Excercise-6**: All\n",
        "\n",
        "You need to refer to Qiskit Runtime docs to successfully complete the excercises in this lab. Some helpful and necessary links are below:\n",
        "1. https://docs.quantum.ibm.com/run/error-mitigation-explanation\n",
        "2. https://docs.quantum.ibm.com/run/configure-error-mitigation\n",
        "3. https://docs.quantum.ibm.com/api/qiskit-ibm-runtime/options\n",
        "   - https://docs.quantum.ibm.com/api/qiskit-ibm-runtime/qiskit_ibm_runtime.options.EstimatorOptions\n",
        "   - https://docs.quantum.ibm.com/api/qiskit-ibm-runtime/qiskit_ibm_runtime.options.DynamicalDecouplingOptions\n",
        "   - https://docs.quantum.ibm.com/api/qiskit-ibm-runtime/qiskit_ibm_runtime.options.ResilienceOptionsV2\n",
        "   - https://docs.quantum.ibm.com/api/qiskit-ibm-runtime/qiskit_ibm_runtime.options.MeasureNoiseLearningOptions\n",
        "   - https://docs.quantum.ibm.com/api/qiskit-ibm-runtime/qiskit_ibm_runtime.options.TwirlingOptions\n",
        "   - https://docs.quantum.ibm.com/api/qiskit-ibm-runtime/qiskit_ibm_runtime.options.ZneOptions\n",
        "  \n",
        "Read the comments in the next code cell for deatils of each excercise and hints.\n",
        "\n",
        "**Note 1**\n",
        "\n",
        "Some suppression and mitigation options are enabled by default (e.g., measurement twirling is enabled by default). Therefore, if you want to selectively enable one or more options, inspect the default options first and explicitly disable unwanted options, if necessary.\n",
        "\n",
        "One way is to [turn off all mitigation and suppression first](https://docs.quantum.ibm.com/run/configure-error-mitigation#turn-off-all-error-mitigation-and-error-suppression), then selectively turn on your desired options.\n",
        "\n",
        "Also, refer to the [Qiskit Runtime API docs](https://docs.quantum.ibm.com/api/qiskit-ibm-runtime) for default options.\n",
        "\n",
        "**Note 2**\n",
        "\n",
        "It is recommended to submit multiple non-iterative jobs inside a [`Batch`](https://docs.quantum.ibm.com/api/qiskit-ibm-runtime/qiskit_ibm_runtime.Batch) [execution mode](https://docs.quantum.ibm.com/run/execution-modes) of Qiskit Runtime (See also [Run jobs in batch](https://docs.quantum.ibm.com/run/run-jobs-batch)) to leverage the parallelization offered by batch and minimize delay between jobs. For example, if you are an open plan users, you can submit $3$ jobs together in the `Batch` execution mode."
      ]
    },
    {
      "cell_type": "code",
      "execution_count": null,
      "id": "5339ee18-2fc8-4b10-b5af-62c67ef642d7",
      "metadata": {
        "colab": {
          "base_uri": "https://localhost:8080/",
          "height": 352
        },
        "id": "5339ee18-2fc8-4b10-b5af-62c67ef642d7",
        "outputId": "95787297-3b8a-4b9b-bd7b-bddf538a609d"
      },
      "outputs": [
        {
          "output_type": "error",
          "ename": "RuntimeInvalidStateError",
          "evalue": "'Unable to retrieve result for job ctgnt689fby0008fkgwg. Job was cancelled.'",
          "traceback": [
            "\u001b[0;31m---------------------------------------------------------------------------\u001b[0m",
            "\u001b[0;31mRuntimeInvalidStateError\u001b[0m                  Traceback (most recent call last)",
            "\u001b[0;32m<ipython-input-30-9948899356c7>\u001b[0m in \u001b[0;36m<cell line: 77>\u001b[0;34m()\u001b[0m\n\u001b[1;32m     75\u001b[0m \u001b[0;34m\u001b[0m\u001b[0m\n\u001b[1;32m     76\u001b[0m \u001b[0;31m# Wait for first 3 jobs to complete. Fetch results when done\u001b[0m\u001b[0;34m\u001b[0m\u001b[0;34m\u001b[0m\u001b[0m\n\u001b[0;32m---> 77\u001b[0;31m \u001b[0mprimitive_results\u001b[0m\u001b[0;34m.\u001b[0m\u001b[0mappend\u001b[0m\u001b[0;34m(\u001b[0m\u001b[0mjob_ex1\u001b[0m\u001b[0;34m.\u001b[0m\u001b[0mresult\u001b[0m\u001b[0;34m(\u001b[0m\u001b[0;34m)\u001b[0m\u001b[0;34m)\u001b[0m\u001b[0;34m\u001b[0m\u001b[0;34m\u001b[0m\u001b[0m\n\u001b[0m\u001b[1;32m     78\u001b[0m \u001b[0mprimitive_results\u001b[0m\u001b[0;34m.\u001b[0m\u001b[0mappend\u001b[0m\u001b[0;34m(\u001b[0m\u001b[0mjob_ex2\u001b[0m\u001b[0;34m.\u001b[0m\u001b[0mresult\u001b[0m\u001b[0;34m(\u001b[0m\u001b[0;34m)\u001b[0m\u001b[0;34m)\u001b[0m\u001b[0;34m\u001b[0m\u001b[0;34m\u001b[0m\u001b[0m\n\u001b[1;32m     79\u001b[0m \u001b[0mprimitive_results\u001b[0m\u001b[0;34m.\u001b[0m\u001b[0mappend\u001b[0m\u001b[0;34m(\u001b[0m\u001b[0mjob_ex3\u001b[0m\u001b[0;34m.\u001b[0m\u001b[0mresult\u001b[0m\u001b[0;34m(\u001b[0m\u001b[0;34m)\u001b[0m\u001b[0;34m)\u001b[0m\u001b[0;34m\u001b[0m\u001b[0;34m\u001b[0m\u001b[0m\n",
            "\u001b[0;32m/usr/local/lib/python3.10/dist-packages/qiskit_ibm_runtime/runtime_job_v2.py\u001b[0m in \u001b[0;36mresult\u001b[0;34m(self, timeout, decoder)\u001b[0m\n\u001b[1;32m    141\u001b[0m             \u001b[0;32mraise\u001b[0m \u001b[0mRuntimeJobFailureError\u001b[0m\u001b[0;34m(\u001b[0m\u001b[0;34mf\"Unable to retrieve job result. {error_message}\"\u001b[0m\u001b[0;34m)\u001b[0m\u001b[0;34m\u001b[0m\u001b[0;34m\u001b[0m\u001b[0m\n\u001b[1;32m    142\u001b[0m         \u001b[0;32mif\u001b[0m \u001b[0mself\u001b[0m\u001b[0;34m.\u001b[0m\u001b[0m_status\u001b[0m \u001b[0;34m==\u001b[0m \u001b[0;34m\"CANCELLED\"\u001b[0m\u001b[0;34m:\u001b[0m\u001b[0;34m\u001b[0m\u001b[0;34m\u001b[0m\u001b[0m\n\u001b[0;32m--> 143\u001b[0;31m             raise RuntimeInvalidStateError(\n\u001b[0m\u001b[1;32m    144\u001b[0m                 \u001b[0;34m\"Unable to retrieve result for job {}. \"\u001b[0m \u001b[0;34m\"Job was cancelled.\"\u001b[0m\u001b[0;34m.\u001b[0m\u001b[0mformat\u001b[0m\u001b[0;34m(\u001b[0m\u001b[0mself\u001b[0m\u001b[0;34m.\u001b[0m\u001b[0mjob_id\u001b[0m\u001b[0;34m(\u001b[0m\u001b[0;34m)\u001b[0m\u001b[0;34m)\u001b[0m\u001b[0;34m\u001b[0m\u001b[0;34m\u001b[0m\u001b[0m\n\u001b[1;32m    145\u001b[0m             )\n",
            "\u001b[0;31mRuntimeInvalidStateError\u001b[0m: 'Unable to retrieve result for job ctgnt689fby0008fkgwg. Job was cancelled.'"
          ]
        }
      ],
      "source": [
        "from re import T\n",
        "from qiskit_ibm_runtime import EstimatorV2 as Estimator, EstimatorOptions, Batch\n",
        "\n",
        "# Define the primitive unified bloc (PUB) for Estimator jobs\n",
        "# More on PUB: https://docs.quantum.ibm.com/api/qiskit/primitives\n",
        "pub = (target_circuit, target_observables)\n",
        "default_shots = 10_000\n",
        "\n",
        "# list for saving job results\n",
        "primitive_results = []\n",
        "\n",
        "# Submit Exercise 1 to 3 inside a Batch execution mode\n",
        "with Batch(backend=backend) as batch:\n",
        "    # Excercise-1: No mitigation (worked out for you)\n",
        "    ## https://docs.quantum.ibm.com/run/configure-error-mitigation#turn-off-all-error-mitigation-and-error-suppression\n",
        "    options_ex1 = EstimatorOptions() # some suppression and mitigation are enabled by default\n",
        "    options_ex1.optimization_level = 0\n",
        "    options_ex1.resilience_level = 0\n",
        "    options_ex1.default_shots = default_shots\n",
        "\n",
        "    # Instantiate `Estimator` with options\n",
        "    estimator = Estimator(options=options_ex1)\n",
        "    # Submit job\n",
        "    job_ex1 = estimator.run(pubs=[pub])\n",
        "\n",
        "\n",
        "    # Excercise-2: Dynamical Decoupling (DD)\n",
        "    options_ex2 = EstimatorOptions()\n",
        "    options_ex2.default_shots = default_shots\n",
        "    options_ex2.resilience_level = 0 # turn off measurement twirling and measurement mitigation\n",
        "    options_ex2.optimization_level = 0 # turn off gate twirling\n",
        "\n",
        "    options_ex2.dynamical_decoupling.enable = True\n",
        "    options_ex2.dynamical_decoupling.sequence_type = \"XX\"\n",
        "    options_ex2.dynamical_decoupling.extra_slack_distribution = 'middle'\n",
        "    options_ex2.dynamical_decoupling.scheduling_method = 'alap'\n",
        "\n",
        "    \"\"\"Your code goes here.\n",
        "\n",
        "        Configure options to only enable DD with a 'XX' sequence.\n",
        "\n",
        "        Hint: First, turn off all error suppression and mitigation. Then, turn on DD related options only.\n",
        "            1. https://docs.quantum.ibm.com/api/qiskit-ibm-runtime/qiskit_ibm_runtime.options.EstimatorOptions\n",
        "            2. https://docs.quantum.ibm.com/api/qiskit-ibm-runtime/qiskit_ibm_runtime.options.DynamicalDecouplingOptions\n",
        "            3. https://docs.quantum.ibm.com/run/error-mitigation-explanation#dynamical-decoupling\n",
        "    \"\"\"\n",
        "\n",
        "    estimator = Estimator(options=options_ex2)\n",
        "    job_ex2 = estimator.run(pubs=[pub])\n",
        "\n",
        "\n",
        "    # Excercise-3: Measurement mitigation (TREX)\n",
        "    options_ex3 = EstimatorOptions()\n",
        "    options_ex3.default_shots = default_shots\n",
        "    options_ex3.resilience_level = 0 # turn off measurement twirling and measurement mitigation\n",
        "    options_ex3.optimization_level = 0 # turn off gate twirling\n",
        "\n",
        "    \"\"\"Your code goes here.\n",
        "\n",
        "        Configure options to enable measurement mitigation only.\n",
        "\n",
        "        Hint:\n",
        "            1. https://docs.quantum.ibm.com/api/qiskit-ibm-runtime/qiskit_ibm_runtime.options.EstimatorOptions\n",
        "            2. https://docs.quantum.ibm.com/api/qiskit-ibm-runtime/qiskit_ibm_runtime.options.ResilienceOptionsV2\n",
        "            3. https://docs.quantum.ibm.com/api/qiskit-ibm-runtime/qiskit_ibm_runtime.options.TwirlingOptions\n",
        "            4. https://docs.quantum.ibm.com/run/configure-error-mitigation\n",
        "    \"\"\"\n",
        "\n",
        "    options_ex3.resilience.measure_mitigation = True #Activate TREX\n",
        "    options_ex3.resilience.measure_noise_learning.num_randomizations = 32\n",
        "    options_ex3.resilience.measure_noise_learning.shots_per_randomization = 'auto'\n",
        "\n",
        "    estimator = Estimator(options=options_ex3)\n",
        "    job_ex3 = estimator.run(pubs=[pub])\n",
        "\n",
        "# Wait for first 3 jobs to complete. Fetch results when done\n",
        "primitive_results.append(job_ex1.result())\n",
        "primitive_results.append(job_ex2.result())\n",
        "primitive_results.append(job_ex3.result())\n",
        "\n",
        "# Submit Exercise 4a, 4b, and 5 inside another Batch execution mode\n",
        "with Batch(backend=backend) as batch:\n",
        "    # Excercise-4a: Zero Noise Extrapolation (extrapolator=\"exponential\" | noise_factors=(1, 3, 5))\n",
        "    options_ex4a = EstimatorOptions()\n",
        "    options_ex4a.default_shots = default_shots\n",
        "    options_ex4a.resilience_level = 0 # turn off measurement twirling and measurement mitigation\n",
        "    options_ex4a.optimization_level = 0 # turn off gate twirling\n",
        "    \"\"\"Your code goes here.\n",
        "\n",
        "        Configure options to only enable ZNE with the exponential extrapolator and default noise factors (1, 3, 5).\n",
        "\n",
        "        Hint:\n",
        "            1. https://docs.quantum.ibm.com/api/qiskit-ibm-runtime/qiskit_ibm_runtime.options.EstimatorOptions\n",
        "            2. https://docs.quantum.ibm.com/api/qiskit-ibm-runtime/qiskit_ibm_runtime.options.ResilienceOptionsV2\n",
        "            3. https://docs.quantum.ibm.com/api/qiskit-ibm-runtime/qiskit_ibm_runtime.options.ZneOptions\n",
        "    \"\"\"\n",
        "    options_ex4a.resilience.zne_mitigation = True\n",
        "    options_ex4a.resilience.zne_mitigation.extrapolator = 'exponential'\n",
        "    options_ex4a.resilience.zne_mitigation.noise_factors = (1, 3, 5)\n",
        "\n",
        "    estimator = Estimator(options=options_ex4a)\n",
        "    job_ex4a = estimator.run(pubs=[pub])\n",
        "\n",
        "\n",
        "    # Excercise-4b: Zero Noise Extrapolation (use: extrapolator=\"linear\" and noise_factors=(1, 3, 5))\n",
        "    options_ex4b = EstimatorOptions()\n",
        "    options_ex4b.default_shots = default_shots\n",
        "    options_ex4b.resilience_level = 0 # turn off measurement twirling and measurement mitigation\n",
        "    options_ex4b.optimization_level = 0 # turn off gate twirling\n",
        "    \"\"\"Your code goes here.\n",
        "\n",
        "        Configure options to only enable ZNE with the linear extrapolator and default noise factors (1, 3, 5).\n",
        "\n",
        "        Hint:\n",
        "            1. https://docs.quantum.ibm.com/api/qiskit-ibm-runtime/qiskit_ibm_runtime.options.EstimatorOptions\n",
        "            2. https://docs.quantum.ibm.com/api/qiskit-ibm-runtime/qiskit_ibm_runtime.options.ResilienceOptionsV2\n",
        "            3. https://docs.quantum.ibm.com/api/qiskit-ibm-runtime/qiskit_ibm_runtime.options.ZneOptions\n",
        "    \"\"\"\n",
        "    options_ex4b.resilience.zne_mitigation = True\n",
        "    options_ex4b.resilience.zne_mitigation.extrapolator = 'linear'\n",
        "    options_ex4b.resilience.zne_mitigation.noise_factors = (1, 3, 5)\n",
        "\n",
        "    estimator = Estimator(options=options_ex4b)\n",
        "    job_ex4b = estimator.run(pubs=[pub])\n",
        "\n",
        "\n",
        "    # Excercise-5: Gate Twirling + Zero Noise Extrapolation (use: extrapolator=(\"exponential\", \"linear\") and noise_factors=(1, 3, 5))\n",
        "    options_ex5 = EstimatorOptions()\n",
        "    options_ex5.default_shots = default_shots\n",
        "    options_ex5.resilience_level = 0 # turn off measurement twirling and measurement mitigation\n",
        "    options_ex5.optimization_level = 0 # turn off gate twirling\n",
        "    \"\"\"Your code goes here.\n",
        "\n",
        "        Configure options to enable gate twirling and ZNE.\n",
        "        Instead of a single extrapolator, set a sequence of extrapolators, i.e., (\"exponential\", \"linear\"), in ZneOptions.\n",
        "        Make sure to turn off any measurment twirling and measurement mitigation.\n",
        "\n",
        "        Hint:\n",
        "            1. https://docs.quantum.ibm.com/api/qiskit-ibm-runtime/qiskit_ibm_runtime.options.EstimatorOptions\n",
        "            2. https://docs.quantum.ibm.com/api/qiskit-ibm-runtime/qiskit_ibm_runtime.options.ResilienceOptionsV2\n",
        "            3. https://docs.quantum.ibm.com/api/qiskit-ibm-runtime/qiskit_ibm_runtime.options.ZneOptions\n",
        "            4. https://docs.quantum.ibm.com/api/qiskit-ibm-runtime/qiskit_ibm_runtime.options.TwirlingOptions\n",
        "    \"\"\"\n",
        "    #Twirling\n",
        "    options_ex5.twirling.enable_gates = True\n",
        "    options_ex5.twirling.enable_measure = True\n",
        "    options_ex5.twirling.num_randomizations = 'auto'\n",
        "    options_ex5.twirling.shots_per_randomization = 'auto'\n",
        "    options_ex5.twirling.strategy = 'active-accum'\n",
        "\n",
        "    #ZNE\n",
        "    # options_ex5.resilience.measure_mitigation = True\n",
        "    # options_ex5.resilience.measure_noise_learning.num_randomizations = 32\n",
        "    # options_ex5.resilience.measure_noise_learning.shots_per_randomization = 'auto'\n",
        "    options_ex5.resilience.zne_mitigation = True\n",
        "    options_ex5.resilience.zne_mitigation.extrapolator = (\"exponential\", \"linear\")\n",
        "    options_ex5.resilience.zne_mitigation.noise_factors = (1, 3, 5)\n",
        "\n",
        "    estimator = Estimator(options=options_ex5)\n",
        "    job_ex5 = estimator.run(pubs=[pub])\n",
        "\n",
        "# Wait for next 3 jobs to complete. Fetch results when done\n",
        "primitive_results.append(job_ex4a.result())\n",
        "primitive_results.append(job_ex4b.result())\n",
        "primitive_results.append(job_ex5.result())\n",
        "\n",
        "# Submit Exercise 6 in Job execution mode as it is a single job\n",
        "# Excercise-6: All\n",
        "options_ex6 = EstimatorOptions()\n",
        "options_ex6.default_shots = default_shots\n",
        "options_ex6.resilience_level = 0 # turn off measurement twirling and measurement mitigation\n",
        "options_ex6.optimization_level = 0 # turn off gate twirling\n",
        "\"\"\"Your code goes here.\n",
        "\n",
        "    Configure options to enable all suppression and mitigation options, i.e., DD, measurement mitigation,\n",
        "    gate twirling, and ZNE. Keep using the same sequence of extrapolators and noise factors from excercise-5 for ZNE.\n",
        "\n",
        "    Hint:\n",
        "        1. https://docs.quantum.ibm.com/api/qiskit-ibm-runtime/qiskit_ibm_runtime.options.EstimatorOptions\n",
        "        2. https://docs.quantum.ibm.com/api/qiskit-ibm-runtime/qiskit_ibm_runtime.options.DynamicalDecouplingOptions\n",
        "        3. https://docs.quantum.ibm.com/run/configure-error-mitigation#configure-estimator-v2-with-resilience-levels\n",
        "\"\"\"\n",
        "#Dynamical Decoumpling\n",
        "options_ex6.dynamical_decoupling.enable = True\n",
        "options_ex6.dynamical_decoupling.sequence_type = \"XX\"\n",
        "options_ex6.dynamical_decoupling.extra_slack_distribution = 'middle'\n",
        "options_ex6.dynamical_decoupling.scheduling_method = 'alap'\n",
        "\n",
        "#Measurement Mitigation\n",
        "options_ex6.resilience.measure_mitigation = True #Activate TREX\n",
        "options_ex6.resilience.measure_noise_learning.num_randomizations = 32\n",
        "options_ex6.resilience.measure_noise_learning.shots_per_randomization = 'auto'\n",
        "\n",
        "#Gate Twirling\n",
        "options_ex6.twirling.enable_gates = True\n",
        "options_ex6.twirling.enable_measure = True\n",
        "options_ex6.twirling.num_randomizations = 'auto'\n",
        "options_ex6.twirling.shots_per_randomization = 'auto'\n",
        "options_ex6.twirling.strategy = 'active-accum'\n",
        "\n",
        "#ZNE\n",
        "options_ex6.resilience.zne_mitigation = True\n",
        "options_ex6.resilience.zne_mitigation.extrapolator = (\"exponential\", \"linear\")\n",
        "options_ex6.resilience.zne_mitigation.noise_factors = (1, 3, 5)\n",
        "\n",
        "# Note: explicitly set `mode=backend` in Job execution mode.\n",
        "# Inside Batch context manager, `Estimator` knows the context/backend implicitly\n",
        "# However, without the context manager, we must set `mode` explicitly\n",
        "estimator = Estimator(mode=backend, options=options_ex6)\n",
        "job_ex6 = estimator.run(pubs=[pub])\n",
        "primitive_results.append(job_ex6.result())"
      ]
    },
    {
      "cell_type": "markdown",
      "id": "8d61e0fc-e0c4-4cbd-81ff-69282c5f6c21",
      "metadata": {
        "id": "8d61e0fc-e0c4-4cbd-81ff-69282c5f6c21"
      },
      "source": [
        "### Analyze"
      ]
    },
    {
      "cell_type": "markdown",
      "id": "f75dc381-c4ef-4cec-bdca-ceca13092506",
      "metadata": {
        "id": "f75dc381-c4ef-4cec-bdca-ceca13092506"
      },
      "source": [
        "1. Each [`PrimtiveResult`](https://docs.quantum.ibm.com/api/qiskit/qiskit.primitives.PrimitiveResult) will have a list-like structure with a single [`PubResult`](https://docs.quantum.ibm.com/api/qiskit/qiskit.primitives.PubResult) (as we submitted a single PUB).\n",
        "   - The `PubResult` will contain an array of expectation values each corresponding to an observable inside its [`data`](https://docs.quantum.ibm.com/api/qiskit/qiskit.primitives.DataBin) container (`pub_result.data.evs`). For each qubit in the `abstract_circuit`, we have one weight-1 $\\langle Z \\rangle$ observable.\n",
        "2. Compute the average of expectation values in each `PubResult`.\n",
        "3. Plot (bar chart) average expectation values and analyze how different error suppression and mitigation methods are improving results. Note that due the compute-uncompute structure of the circuit, the ideal average expecation value is $1.0$ for each job respectively.\n",
        "\n",
        "Now, try to understand the results based on the knowledge from the lecture. We suggest looking at the structure of the circuit by following one of the visualization methods described [here](https://docs.quantum.ibm.com/build/circuit-visualization)."
      ]
    },
    {
      "cell_type": "code",
      "execution_count": null,
      "id": "ecc98782-10c6-4fb1-b143-a5ad50e8f5e8",
      "metadata": {
        "id": "ecc98782-10c6-4fb1-b143-a5ad50e8f5e8"
      },
      "outputs": [],
      "source": [
        "#Your code for analyzing results goes here"
      ]
    },
    {
      "cell_type": "code",
      "execution_count": null,
      "id": "e1002c8d-bb39-43d0-92e0-486e7669f04f",
      "metadata": {
        "id": "e1002c8d-bb39-43d0-92e0-486e7669f04f",
        "outputId": "b87f44db-cd0f-48e8-a48a-f6efa10a5df5"
      },
      "outputs": [
        {
          "data": {
            "text/html": [
              "<div style='width: 100%; background-color:#d5d9e0;padding-left: 10px; padding-bottom: 10px; padding-right: 10px; padding-top: 5px'><p>&copy; Copyright IBM 2017, 2024.</p><p>This code is licensed under the Apache License, Version 2.0. You may<br>obtain a copy of this license in the LICENSE.txt file in the root directory<br> of this source tree or at http://www.apache.org/licenses/LICENSE-2.0.<p>Any modifications or derivative works of this code must retain this<br>copyright notice, and modified files need to carry a notice indicating<br>that they have been altered from the originals.</p></div>"
            ],
            "text/plain": [
              "<IPython.core.display.HTML object>"
            ]
          },
          "metadata": {},
          "output_type": "display_data"
        }
      ],
      "source": [
        "import datetime\n",
        "from IPython.display import HTML, display\n",
        "\n",
        "\n",
        "def qiskit_copyright(line=\"\", cell=None):\n",
        "    \"\"\"IBM copyright\"\"\"\n",
        "    now = datetime.datetime.now()\n",
        "\n",
        "    html = \"<div style='width: 100%; background-color:#d5d9e0;\"\n",
        "    html += \"padding-left: 10px; padding-bottom: 10px; padding-right: 10px; padding-top: 5px'>\"\n",
        "    html += \"<p>&copy; Copyright IBM 2017, %s.</p>\" % now.year\n",
        "    html += \"<p>This code is licensed under the Apache License, Version 2.0. You may<br>\"\n",
        "    html += \"obtain a copy of this license in the LICENSE.txt file in the root directory<br> \"\n",
        "    html += \"of this source tree or at http://www.apache.org/licenses/LICENSE-2.0.\"\n",
        "\n",
        "    html += \"<p>Any modifications or derivative works of this code must retain this<br>\"\n",
        "    html += \"copyright notice, and modified files need to carry a notice indicating<br>\"\n",
        "    html += \"that they have been altered from the originals.</p>\"\n",
        "    html += \"</div>\"\n",
        "    return display(HTML(html))\n",
        "\n",
        "\n",
        "qiskit_copyright()"
      ]
    }
  ],
  "metadata": {
    "kernelspec": {
      "display_name": "Python 3 (ipykernel)",
      "language": "python",
      "name": "python3"
    },
    "language_info": {
      "codemirror_mode": {
        "name": "ipython",
        "version": 3
      },
      "file_extension": ".py",
      "mimetype": "text/x-python",
      "name": "python",
      "nbconvert_exporter": "python",
      "pygments_lexer": "ipython3",
      "version": "3.11.8"
    },
    "colab": {
      "provenance": [],
      "include_colab_link": true
    }
  },
  "nbformat": 4,
  "nbformat_minor": 5
}